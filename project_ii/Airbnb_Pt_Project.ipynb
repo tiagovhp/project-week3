{
 "cells": [
  {
   "cell_type": "code",
   "execution_count": 2,
   "id": "d0d400bd-7c23-4532-9d2e-097a9a972403",
   "metadata": {},
   "outputs": [],
   "source": [
    "# AIRBNB (Lisbon & Porto) Analysis"
   ]
  },
  {
   "cell_type": "code",
   "execution_count": 3,
   "id": "e39ee298-087b-4131-8eec-44b8e8eb71d6",
   "metadata": {},
   "outputs": [
    {
     "name": "stdout",
     "output_type": "stream",
     "text": [
      "Requirement already satisfied: pandas in /opt/anaconda3/lib/python3.12/site-packages (2.2.2)\n",
      "Requirement already satisfied: mysql-connector-python in /opt/anaconda3/lib/python3.12/site-packages (9.0.0)\n",
      "Requirement already satisfied: numpy>=1.26.0 in /opt/anaconda3/lib/python3.12/site-packages (from pandas) (1.26.4)\n",
      "Requirement already satisfied: python-dateutil>=2.8.2 in /opt/anaconda3/lib/python3.12/site-packages (from pandas) (2.9.0.post0)\n",
      "Requirement already satisfied: pytz>=2020.1 in /opt/anaconda3/lib/python3.12/site-packages (from pandas) (2024.1)\n",
      "Requirement already satisfied: tzdata>=2022.7 in /opt/anaconda3/lib/python3.12/site-packages (from pandas) (2023.3)\n",
      "Requirement already satisfied: six>=1.5 in /opt/anaconda3/lib/python3.12/site-packages (from python-dateutil>=2.8.2->pandas) (1.16.0)\n"
     ]
    }
   ],
   "source": [
    "# Import libraries\n",
    "import pandas as pd\n",
    "!pip install pandas mysql-connector-python \n",
    "from sqlalchemy import create_engine"
   ]
  },
  {
   "cell_type": "code",
   "execution_count": 4,
   "id": "e67044b3-7426-4de3-8adc-22fc234f37ae",
   "metadata": {},
   "outputs": [
    {
     "data": {
      "text/html": [
       "<div>\n",
       "<style scoped>\n",
       "    .dataframe tbody tr th:only-of-type {\n",
       "        vertical-align: middle;\n",
       "    }\n",
       "\n",
       "    .dataframe tbody tr th {\n",
       "        vertical-align: top;\n",
       "    }\n",
       "\n",
       "    .dataframe thead th {\n",
       "        text-align: right;\n",
       "    }\n",
       "</style>\n",
       "<table border=\"1\" class=\"dataframe\">\n",
       "  <thead>\n",
       "    <tr style=\"text-align: right;\">\n",
       "      <th></th>\n",
       "      <th>id</th>\n",
       "      <th>name</th>\n",
       "      <th>host_id</th>\n",
       "      <th>host_name</th>\n",
       "      <th>neighbourhood_group</th>\n",
       "      <th>neighbourhood</th>\n",
       "      <th>latitude</th>\n",
       "      <th>longitude</th>\n",
       "      <th>room_type</th>\n",
       "      <th>price</th>\n",
       "      <th>minimum_nights</th>\n",
       "      <th>number_of_reviews</th>\n",
       "      <th>last_review</th>\n",
       "      <th>reviews_per_month</th>\n",
       "      <th>calculated_host_listings_count</th>\n",
       "      <th>availability_365</th>\n",
       "      <th>number_of_reviews_ltm</th>\n",
       "      <th>license</th>\n",
       "    </tr>\n",
       "  </thead>\n",
       "  <tbody>\n",
       "    <tr>\n",
       "      <th>0</th>\n",
       "      <td>41339</td>\n",
       "      <td>Porto city flat near the sea</td>\n",
       "      <td>180050</td>\n",
       "      <td>Paula</td>\n",
       "      <td>PORTO</td>\n",
       "      <td>Lordelo do Ouro e Massarelos</td>\n",
       "      <td>41.15010</td>\n",
       "      <td>-8.66035</td>\n",
       "      <td>Entire home/apt</td>\n",
       "      <td>56.0</td>\n",
       "      <td>7</td>\n",
       "      <td>25</td>\n",
       "      <td>2024-08-16</td>\n",
       "      <td>0.18</td>\n",
       "      <td>1</td>\n",
       "      <td>4</td>\n",
       "      <td>3</td>\n",
       "      <td>29049/AL</td>\n",
       "    </tr>\n",
       "    <tr>\n",
       "      <th>1</th>\n",
       "      <td>55111</td>\n",
       "      <td>Fontielas Houses |Floor1 in House with shared ...</td>\n",
       "      <td>259711</td>\n",
       "      <td>Isabel E João</td>\n",
       "      <td>PAREDES</td>\n",
       "      <td>Cete</td>\n",
       "      <td>41.17481</td>\n",
       "      <td>-8.35356</td>\n",
       "      <td>Entire home/apt</td>\n",
       "      <td>NaN</td>\n",
       "      <td>4</td>\n",
       "      <td>20</td>\n",
       "      <td>2024-08-14</td>\n",
       "      <td>0.18</td>\n",
       "      <td>3</td>\n",
       "      <td>0</td>\n",
       "      <td>1</td>\n",
       "      <td>7563/AL</td>\n",
       "    </tr>\n",
       "    <tr>\n",
       "      <th>2</th>\n",
       "      <td>73828</td>\n",
       "      <td>Fontielas Houses |Floor0 in House with shared ...</td>\n",
       "      <td>259711</td>\n",
       "      <td>Isabel E João</td>\n",
       "      <td>PAREDES</td>\n",
       "      <td>Cete</td>\n",
       "      <td>41.17447</td>\n",
       "      <td>-8.35423</td>\n",
       "      <td>Entire home/apt</td>\n",
       "      <td>NaN</td>\n",
       "      <td>5</td>\n",
       "      <td>15</td>\n",
       "      <td>2024-08-21</td>\n",
       "      <td>0.13</td>\n",
       "      <td>3</td>\n",
       "      <td>0</td>\n",
       "      <td>1</td>\n",
       "      <td>7563/AL</td>\n",
       "    </tr>\n",
       "    <tr>\n",
       "      <th>3</th>\n",
       "      <td>87873</td>\n",
       "      <td>Oporto Apartment Triplex</td>\n",
       "      <td>480980</td>\n",
       "      <td>Paula</td>\n",
       "      <td>PORTO</td>\n",
       "      <td>Bonfim</td>\n",
       "      <td>41.15786</td>\n",
       "      <td>-8.60427</td>\n",
       "      <td>Entire home/apt</td>\n",
       "      <td>100.0</td>\n",
       "      <td>3</td>\n",
       "      <td>248</td>\n",
       "      <td>2024-08-31</td>\n",
       "      <td>1.65</td>\n",
       "      <td>4</td>\n",
       "      <td>311</td>\n",
       "      <td>11</td>\n",
       "      <td>634/AL</td>\n",
       "    </tr>\n",
       "    <tr>\n",
       "      <th>4</th>\n",
       "      <td>94701</td>\n",
       "      <td>Big TERRACE APARTMENT / city center</td>\n",
       "      <td>505473</td>\n",
       "      <td>Gundega &amp; Antonio</td>\n",
       "      <td>PORTO</td>\n",
       "      <td>Bonfim</td>\n",
       "      <td>41.14707</td>\n",
       "      <td>-8.60109</td>\n",
       "      <td>Entire home/apt</td>\n",
       "      <td>77.0</td>\n",
       "      <td>3</td>\n",
       "      <td>302</td>\n",
       "      <td>2024-08-28</td>\n",
       "      <td>1.86</td>\n",
       "      <td>1</td>\n",
       "      <td>337</td>\n",
       "      <td>13</td>\n",
       "      <td>85541/AL</td>\n",
       "    </tr>\n",
       "  </tbody>\n",
       "</table>\n",
       "</div>"
      ],
      "text/plain": [
       "      id                                               name  host_id  \\\n",
       "0  41339                       Porto city flat near the sea   180050   \n",
       "1  55111  Fontielas Houses |Floor1 in House with shared ...   259711   \n",
       "2  73828  Fontielas Houses |Floor0 in House with shared ...   259711   \n",
       "3  87873                           Oporto Apartment Triplex   480980   \n",
       "4  94701                Big TERRACE APARTMENT / city center   505473   \n",
       "\n",
       "           host_name neighbourhood_group                 neighbourhood  \\\n",
       "0              Paula               PORTO  Lordelo do Ouro e Massarelos   \n",
       "1      Isabel E João             PAREDES                          Cete   \n",
       "2      Isabel E João             PAREDES                          Cete   \n",
       "3              Paula               PORTO                        Bonfim   \n",
       "4  Gundega & Antonio               PORTO                        Bonfim   \n",
       "\n",
       "   latitude  longitude        room_type  price  minimum_nights  \\\n",
       "0  41.15010   -8.66035  Entire home/apt   56.0               7   \n",
       "1  41.17481   -8.35356  Entire home/apt    NaN               4   \n",
       "2  41.17447   -8.35423  Entire home/apt    NaN               5   \n",
       "3  41.15786   -8.60427  Entire home/apt  100.0               3   \n",
       "4  41.14707   -8.60109  Entire home/apt   77.0               3   \n",
       "\n",
       "   number_of_reviews last_review  reviews_per_month  \\\n",
       "0                 25  2024-08-16               0.18   \n",
       "1                 20  2024-08-14               0.18   \n",
       "2                 15  2024-08-21               0.13   \n",
       "3                248  2024-08-31               1.65   \n",
       "4                302  2024-08-28               1.86   \n",
       "\n",
       "   calculated_host_listings_count  availability_365  number_of_reviews_ltm  \\\n",
       "0                               1                 4                      3   \n",
       "1                               3                 0                      1   \n",
       "2                               3                 0                      1   \n",
       "3                               4               311                     11   \n",
       "4                               1               337                     13   \n",
       "\n",
       "    license  \n",
       "0  29049/AL  \n",
       "1   7563/AL  \n",
       "2   7563/AL  \n",
       "3    634/AL  \n",
       "4  85541/AL  "
      ]
     },
     "execution_count": 4,
     "metadata": {},
     "output_type": "execute_result"
    }
   ],
   "source": [
    "# Read the excel files\n",
    "\n",
    "# Read and convert into DataFrame sheet 'listings_1'\n",
    "pt_listings_1 = pd.read_excel('/Users/tiagovhp/Ironhack/Week_3/Project/AIRBNB_PT_RAW.xlsx', sheet_name='listings_1')\n",
    "\n",
    "pt_listings_1 = pd.DataFrame(pt_listings_1)\n",
    "pt_listings_1.head()"
   ]
  },
  {
   "cell_type": "code",
   "execution_count": 5,
   "id": "27f47e30-758c-4d0d-bf23-c85364774f77",
   "metadata": {},
   "outputs": [
    {
     "data": {
      "text/html": [
       "<div>\n",
       "<style scoped>\n",
       "    .dataframe tbody tr th:only-of-type {\n",
       "        vertical-align: middle;\n",
       "    }\n",
       "\n",
       "    .dataframe tbody tr th {\n",
       "        vertical-align: top;\n",
       "    }\n",
       "\n",
       "    .dataframe thead th {\n",
       "        text-align: right;\n",
       "    }\n",
       "</style>\n",
       "<table border=\"1\" class=\"dataframe\">\n",
       "  <thead>\n",
       "    <tr style=\"text-align: right;\">\n",
       "      <th></th>\n",
       "      <th>id</th>\n",
       "      <th>listing_url</th>\n",
       "      <th>scrape_id</th>\n",
       "      <th>last_scraped</th>\n",
       "      <th>source</th>\n",
       "      <th>name</th>\n",
       "      <th>description</th>\n",
       "      <th>neighborhood_overview</th>\n",
       "      <th>picture_url</th>\n",
       "      <th>host_id</th>\n",
       "      <th>...</th>\n",
       "      <th>review_scores_communication</th>\n",
       "      <th>review_scores_location</th>\n",
       "      <th>review_scores_value</th>\n",
       "      <th>license</th>\n",
       "      <th>instant_bookable</th>\n",
       "      <th>calculated_host_listings_count</th>\n",
       "      <th>calculated_host_listings_count_entire_homes</th>\n",
       "      <th>calculated_host_listings_count_private_rooms</th>\n",
       "      <th>calculated_host_listings_count_shared_rooms</th>\n",
       "      <th>reviews_per_month</th>\n",
       "    </tr>\n",
       "  </thead>\n",
       "  <tbody>\n",
       "    <tr>\n",
       "      <th>0</th>\n",
       "      <td>41339</td>\n",
       "      <td>https://www.airbnb.com/rooms/41339</td>\n",
       "      <td>20240914011139</td>\n",
       "      <td>2024-09-14</td>\n",
       "      <td>city scrape</td>\n",
       "      <td>Porto city flat near the sea</td>\n",
       "      <td>Welcome to our apartment located near the sea ...</td>\n",
       "      <td>The apartment is close to the Serralves Founda...</td>\n",
       "      <td>https://a0.muscache.com/pictures/miso/Hosting-...</td>\n",
       "      <td>180050</td>\n",
       "      <td>...</td>\n",
       "      <td>4.84</td>\n",
       "      <td>4.60</td>\n",
       "      <td>4.68</td>\n",
       "      <td>29049/AL</td>\n",
       "      <td>f</td>\n",
       "      <td>1</td>\n",
       "      <td>1</td>\n",
       "      <td>0</td>\n",
       "      <td>0</td>\n",
       "      <td>0.18</td>\n",
       "    </tr>\n",
       "    <tr>\n",
       "      <th>1</th>\n",
       "      <td>55111</td>\n",
       "      <td>https://www.airbnb.com/rooms/55111</td>\n",
       "      <td>20240914011139</td>\n",
       "      <td>2024-09-14</td>\n",
       "      <td>previous scrape</td>\n",
       "      <td>Fontielas Houses |Floor1 in House with shared ...</td>\n",
       "      <td>Is the first floor in a villa with shared pool...</td>\n",
       "      <td>NaN</td>\n",
       "      <td>https://a0.muscache.com/pictures/b3c38006-5fdf...</td>\n",
       "      <td>259711</td>\n",
       "      <td>...</td>\n",
       "      <td>4.90</td>\n",
       "      <td>4.79</td>\n",
       "      <td>4.79</td>\n",
       "      <td>7563/AL</td>\n",
       "      <td>f</td>\n",
       "      <td>3</td>\n",
       "      <td>3</td>\n",
       "      <td>0</td>\n",
       "      <td>0</td>\n",
       "      <td>0.18</td>\n",
       "    </tr>\n",
       "    <tr>\n",
       "      <th>2</th>\n",
       "      <td>73828</td>\n",
       "      <td>https://www.airbnb.com/rooms/73828</td>\n",
       "      <td>20240914011139</td>\n",
       "      <td>2024-09-14</td>\n",
       "      <td>previous scrape</td>\n",
       "      <td>Fontielas Houses |Floor0 in House with shared ...</td>\n",
       "      <td>Ground floor in a villa with shared pool and p...</td>\n",
       "      <td>NaN</td>\n",
       "      <td>https://a0.muscache.com/pictures/ffb19299-425c...</td>\n",
       "      <td>259711</td>\n",
       "      <td>...</td>\n",
       "      <td>5.00</td>\n",
       "      <td>4.93</td>\n",
       "      <td>4.80</td>\n",
       "      <td>7563/AL</td>\n",
       "      <td>f</td>\n",
       "      <td>3</td>\n",
       "      <td>3</td>\n",
       "      <td>0</td>\n",
       "      <td>0</td>\n",
       "      <td>0.13</td>\n",
       "    </tr>\n",
       "    <tr>\n",
       "      <th>3</th>\n",
       "      <td>87873</td>\n",
       "      <td>https://www.airbnb.com/rooms/87873</td>\n",
       "      <td>20240914011139</td>\n",
       "      <td>2024-09-14</td>\n",
       "      <td>city scrape</td>\n",
       "      <td>Oporto Apartment Triplex</td>\n",
       "      <td>- Cozy apartment with great sun exposition&lt;br ...</td>\n",
       "      <td>OPorto Apartment Triplex is located on Rua San...</td>\n",
       "      <td>https://a0.muscache.com/pictures/33686513/c54f...</td>\n",
       "      <td>480980</td>\n",
       "      <td>...</td>\n",
       "      <td>4.94</td>\n",
       "      <td>4.52</td>\n",
       "      <td>4.81</td>\n",
       "      <td>634/AL</td>\n",
       "      <td>f</td>\n",
       "      <td>4</td>\n",
       "      <td>2</td>\n",
       "      <td>2</td>\n",
       "      <td>0</td>\n",
       "      <td>1.65</td>\n",
       "    </tr>\n",
       "    <tr>\n",
       "      <th>4</th>\n",
       "      <td>94701</td>\n",
       "      <td>https://www.airbnb.com/rooms/94701</td>\n",
       "      <td>20240914011139</td>\n",
       "      <td>2024-09-14</td>\n",
       "      <td>city scrape</td>\n",
       "      <td>Big TERRACE APARTMENT / city center</td>\n",
       "      <td>Independent apartment with big and sunny terra...</td>\n",
       "      <td>In the neighborhood we can find all type of se...</td>\n",
       "      <td>https://a0.muscache.com/pictures/812621/ab58f5...</td>\n",
       "      <td>505473</td>\n",
       "      <td>...</td>\n",
       "      <td>4.95</td>\n",
       "      <td>4.85</td>\n",
       "      <td>4.77</td>\n",
       "      <td>85541/AL</td>\n",
       "      <td>f</td>\n",
       "      <td>1</td>\n",
       "      <td>1</td>\n",
       "      <td>0</td>\n",
       "      <td>0</td>\n",
       "      <td>1.86</td>\n",
       "    </tr>\n",
       "  </tbody>\n",
       "</table>\n",
       "<p>5 rows × 75 columns</p>\n",
       "</div>"
      ],
      "text/plain": [
       "      id                         listing_url       scrape_id last_scraped  \\\n",
       "0  41339  https://www.airbnb.com/rooms/41339  20240914011139   2024-09-14   \n",
       "1  55111  https://www.airbnb.com/rooms/55111  20240914011139   2024-09-14   \n",
       "2  73828  https://www.airbnb.com/rooms/73828  20240914011139   2024-09-14   \n",
       "3  87873  https://www.airbnb.com/rooms/87873  20240914011139   2024-09-14   \n",
       "4  94701  https://www.airbnb.com/rooms/94701  20240914011139   2024-09-14   \n",
       "\n",
       "            source                                               name  \\\n",
       "0      city scrape                       Porto city flat near the sea   \n",
       "1  previous scrape  Fontielas Houses |Floor1 in House with shared ...   \n",
       "2  previous scrape  Fontielas Houses |Floor0 in House with shared ...   \n",
       "3      city scrape                           Oporto Apartment Triplex   \n",
       "4      city scrape                Big TERRACE APARTMENT / city center   \n",
       "\n",
       "                                         description  \\\n",
       "0  Welcome to our apartment located near the sea ...   \n",
       "1  Is the first floor in a villa with shared pool...   \n",
       "2  Ground floor in a villa with shared pool and p...   \n",
       "3  - Cozy apartment with great sun exposition<br ...   \n",
       "4  Independent apartment with big and sunny terra...   \n",
       "\n",
       "                               neighborhood_overview  \\\n",
       "0  The apartment is close to the Serralves Founda...   \n",
       "1                                                NaN   \n",
       "2                                                NaN   \n",
       "3  OPorto Apartment Triplex is located on Rua San...   \n",
       "4  In the neighborhood we can find all type of se...   \n",
       "\n",
       "                                         picture_url  host_id  ...  \\\n",
       "0  https://a0.muscache.com/pictures/miso/Hosting-...   180050  ...   \n",
       "1  https://a0.muscache.com/pictures/b3c38006-5fdf...   259711  ...   \n",
       "2  https://a0.muscache.com/pictures/ffb19299-425c...   259711  ...   \n",
       "3  https://a0.muscache.com/pictures/33686513/c54f...   480980  ...   \n",
       "4  https://a0.muscache.com/pictures/812621/ab58f5...   505473  ...   \n",
       "\n",
       "  review_scores_communication review_scores_location review_scores_value  \\\n",
       "0                        4.84                   4.60                4.68   \n",
       "1                        4.90                   4.79                4.79   \n",
       "2                        5.00                   4.93                4.80   \n",
       "3                        4.94                   4.52                4.81   \n",
       "4                        4.95                   4.85                4.77   \n",
       "\n",
       "    license instant_bookable calculated_host_listings_count  \\\n",
       "0  29049/AL                f                              1   \n",
       "1   7563/AL                f                              3   \n",
       "2   7563/AL                f                              3   \n",
       "3    634/AL                f                              4   \n",
       "4  85541/AL                f                              1   \n",
       "\n",
       "   calculated_host_listings_count_entire_homes  \\\n",
       "0                                            1   \n",
       "1                                            3   \n",
       "2                                            3   \n",
       "3                                            2   \n",
       "4                                            1   \n",
       "\n",
       "   calculated_host_listings_count_private_rooms  \\\n",
       "0                                             0   \n",
       "1                                             0   \n",
       "2                                             0   \n",
       "3                                             2   \n",
       "4                                             0   \n",
       "\n",
       "  calculated_host_listings_count_shared_rooms reviews_per_month  \n",
       "0                                           0              0.18  \n",
       "1                                           0              0.18  \n",
       "2                                           0              0.13  \n",
       "3                                           0              1.65  \n",
       "4                                           0              1.86  \n",
       "\n",
       "[5 rows x 75 columns]"
      ]
     },
     "execution_count": 5,
     "metadata": {},
     "output_type": "execute_result"
    }
   ],
   "source": [
    "# Read and convert into DataFrame sheet 'listings_2'\n",
    "pt_listings_2 = pd.read_excel('/Users/tiagovhp/Ironhack/Week_3/Project/AIRBNB_PT_RAW.xlsx', sheet_name='listings_2')\n",
    "\n",
    "pt_listings_2 = pd.DataFrame(pt_listings_2)\n",
    "pt_listings_2.head()"
   ]
  },
  {
   "cell_type": "code",
   "execution_count": 6,
   "id": "fa2649db-fee2-42b5-b34b-e348429501e1",
   "metadata": {},
   "outputs": [
    {
     "name": "stdout",
     "output_type": "stream",
     "text": [
      "Index(['id', 'name', 'host_id', 'host_name', 'neighbourhood_group',\n",
      "       'neighbourhood', 'latitude', 'longitude', 'room_type', 'price',\n",
      "       'minimum_nights', 'number_of_reviews', 'last_review',\n",
      "       'reviews_per_month', 'calculated_host_listings_count',\n",
      "       'availability_365', 'number_of_reviews_ltm', 'license'],\n",
      "      dtype='object')\n",
      "Index(['id', 'listing_url', 'scrape_id', 'last_scraped', 'source', 'name',\n",
      "       'description', 'neighborhood_overview', 'picture_url', 'host_id',\n",
      "       'host_url', 'host_name', 'host_since', 'host_location', 'host_about',\n",
      "       'host_response_time', 'host_response_rate', 'host_acceptance_rate',\n",
      "       'host_is_superhost', 'host_thumbnail_url', 'host_picture_url',\n",
      "       'host_neighbourhood', 'host_listings_count',\n",
      "       'host_total_listings_count', 'host_verifications',\n",
      "       'host_has_profile_pic', 'host_identity_verified', 'neighbourhood',\n",
      "       'neighbourhood_cleansed', 'neighbourhood_group_cleansed', 'latitude',\n",
      "       'longitude', 'property_type', 'room_type', 'accommodates', 'bathrooms',\n",
      "       'bathrooms_text', 'bedrooms', 'beds', 'amenities', 'price',\n",
      "       'minimum_nights', 'maximum_nights', 'minimum_minimum_nights',\n",
      "       'maximum_minimum_nights', 'minimum_maximum_nights',\n",
      "       'maximum_maximum_nights', 'minimum_nights_avg_ntm',\n",
      "       'maximum_nights_avg_ntm', 'calendar_updated', 'has_availability',\n",
      "       'availability_30', 'availability_60', 'availability_90',\n",
      "       'availability_365', 'calendar_last_scraped', 'number_of_reviews',\n",
      "       'number_of_reviews_ltm', 'number_of_reviews_l30d', 'first_review',\n",
      "       'last_review', 'review_scores_rating', 'review_scores_accuracy',\n",
      "       'review_scores_cleanliness', 'review_scores_checkin',\n",
      "       'review_scores_communication', 'review_scores_location',\n",
      "       'review_scores_value', 'license', 'instant_bookable',\n",
      "       'calculated_host_listings_count',\n",
      "       'calculated_host_listings_count_entire_homes',\n",
      "       'calculated_host_listings_count_private_rooms',\n",
      "       'calculated_host_listings_count_shared_rooms', 'reviews_per_month'],\n",
      "      dtype='object')\n"
     ]
    }
   ],
   "source": [
    "# evaluate the columns in each DataFrame\n",
    "print(pt_listings_1.columns)\n",
    "print(pt_listings_2.columns)"
   ]
  },
  {
   "cell_type": "code",
   "execution_count": 7,
   "id": "319a0334-f7bc-48db-841d-6e3b98e43135",
   "metadata": {},
   "outputs": [
    {
     "data": {
      "text/plain": [
       "['id',\n",
       " 'name',\n",
       " 'host_id',\n",
       " 'host_name',\n",
       " 'neighbourhood',\n",
       " 'latitude',\n",
       " 'longitude',\n",
       " 'room_type',\n",
       " 'price',\n",
       " 'minimum_nights',\n",
       " 'number_of_reviews',\n",
       " 'last_review',\n",
       " 'reviews_per_month',\n",
       " 'calculated_host_listings_count',\n",
       " 'availability_365',\n",
       " 'number_of_reviews_ltm',\n",
       " 'license']"
      ]
     },
     "execution_count": 7,
     "metadata": {},
     "output_type": "execute_result"
    }
   ],
   "source": [
    "# Find the common columns between two Dataframes\n",
    "common_columns = pt_listings_1.columns.intersection(pt_listings_2.columns).tolist()\n",
    "common_columns"
   ]
  },
  {
   "cell_type": "code",
   "execution_count": 8,
   "id": "ae690bb2-de89-4b2d-9b95-8538bffeee7b",
   "metadata": {},
   "outputs": [],
   "source": [
    "# Drop all common columns from listings_2  exept 'id'\n",
    "common_columns.remove('id')\n",
    "common_columns\n",
    "\n",
    "pt_listings_2 = pt_listings_2.drop(columns=common_columns)"
   ]
  },
  {
   "cell_type": "code",
   "execution_count": 9,
   "id": "1bad150b-9cca-4472-a956-cbc7d90a89e2",
   "metadata": {},
   "outputs": [
    {
     "data": {
      "text/plain": [
       "True"
      ]
     },
     "execution_count": 9,
     "metadata": {},
     "output_type": "execute_result"
    }
   ],
   "source": [
    "# Merge the two DataFrames into one that contains all the info from Lisbon listings\n",
    "pt = pd.merge(pt_listings_1,pt_listings_2,on='id',how='inner')\n",
    "\n",
    "# Check if there are any duplicate columns\n",
    "len(pt.columns) == len(set(pt.columns))\n",
    "\n",
    "\n"
   ]
  },
  {
   "cell_type": "code",
   "execution_count": 10,
   "id": "dc7478d5-548e-410f-8e6e-97af2e74d70e",
   "metadata": {},
   "outputs": [
    {
     "data": {
      "text/plain": [
       "(14446, 26)"
      ]
     },
     "execution_count": 10,
     "metadata": {},
     "output_type": "execute_result"
    }
   ],
   "source": [
    "# Create a new Dataframe with only the usefull columns\n",
    "top_25_columns = [\n",
    "    'id',\n",
    "    'price',\n",
    "    'number_of_reviews',\n",
    "    'availability_365',\n",
    "    'room_type',\n",
    "    'neighbourhood',\n",
    "    'neighbourhood_group',\n",
    "    'accommodates',\n",
    "    'bedrooms',\n",
    "    'bathrooms',\n",
    "    'host_is_superhost',\n",
    "    'reviews_per_month',\n",
    "    'last_review',\n",
    "    'first_review',\n",
    "    'calculated_host_listings_count',\n",
    "    'latitude',\n",
    "    'longitude',\n",
    "    'property_type',\n",
    "    'minimum_nights',\n",
    "    'host_name',\n",
    "    'host_since',\n",
    "    'number_of_reviews_ltm',\n",
    "    'instant_bookable',\n",
    "    'host_response_rate',\n",
    "    'host_acceptance_rate',\n",
    "    'host_response_time'\n",
    "]\n",
    "\n",
    "\n",
    "pt = pt[top_25_columns]\n",
    "pt.shape"
   ]
  },
  {
   "cell_type": "code",
   "execution_count": 11,
   "id": "a504ee7e-6d3a-4cdb-bb90-ae3d1cb92389",
   "metadata": {},
   "outputs": [],
   "source": [
    "# DATA CLEANING"
   ]
  },
  {
   "cell_type": "code",
   "execution_count": 12,
   "id": "08e86ec3-eeef-4dc4-8082-4fa032f42043",
   "metadata": {},
   "outputs": [
    {
     "name": "stdout",
     "output_type": "stream",
     "text": [
      "0\n",
      "True\n"
     ]
    }
   ],
   "source": [
    "## id\n",
    "### Convert to numeric type (int)\n",
    "pt['id'] = pt['id'].astype(int)\n",
    "### See if there is any empty or 0 id's \n",
    "pt['id'] = pt['id'].fillna(0)\n",
    "print((pt['id'] == 0).sum())\n",
    "### Check for duplicates\n",
    "print(len(set(pt['id'])) == len(pt['id']))"
   ]
  },
  {
   "cell_type": "code",
   "execution_count": 13,
   "id": "066bc6c3-6704-4624-a6b9-d2c5d2435c09",
   "metadata": {},
   "outputs": [
    {
     "name": "stdout",
     "output_type": "stream",
     "text": [
      "11.484147860999585\n"
     ]
    }
   ],
   "source": [
    "## price\n",
    "### Remove any non-numeric characters ( $ n) -> done in excel\n",
    "### Convert to numeric type (float)\n",
    "pt['price'] = pd.to_numeric(pt['price'])\n",
    "### Relace nan for zero\n",
    "pt['price'] = pt['price'].fillna(0)\n",
    "### Calculate ratio of datapoints where price = 0\n",
    "total_listings=len(pt)\n",
    "count_price_0 = (pt['price'] == 0).sum()\n",
    "percentage_price_0 = (count_price_0 / total_listings)*100\n",
    "print(percentage_price_0)\n",
    "### 12,3% of datapoints have price = 0\n",
    "### Delete listing where price = 0\n",
    "pt = pt[pt['price'] != 0]\n",
    "### Outliers -> we will keep them"
   ]
  },
  {
   "cell_type": "code",
   "execution_count": 14,
   "id": "6658760a-968c-4910-ad82-289b59844ca8",
   "metadata": {},
   "outputs": [],
   "source": [
    "## number_of_reviews\n",
    "### Convert to numeric type (int)\n",
    "pt['number_of_reviews'] = pt['number_of_reviews'].astype(int)\n",
    "### Relace nan for zero\n",
    "pt['number_of_reviews'] = pt['number_of_reviews'].fillna(0)\n"
   ]
  },
  {
   "cell_type": "code",
   "execution_count": 15,
   "id": "55642ab3-367e-48e8-82eb-73decd016ee4",
   "metadata": {},
   "outputs": [
    {
     "name": "stdout",
     "output_type": "stream",
     "text": [
      "1.0088371001798702\n"
     ]
    }
   ],
   "source": [
    "## availability_365\n",
    "### Convert to numeric type (int)\n",
    "pt['availability_365'] = pt['availability_365'].astype(int)\n",
    "### Relace nan for zero\n",
    "pt['availability_365'] = pt['availability_365'].fillna(0)\n",
    "### Calculate ratio of datapoints where availability_365 = 0\n",
    "total_listings=len(pt)\n",
    "count_avaia_0 = (pt['availability_365'] == 0).sum()\n",
    "percentage_ava_0 = (count_avaia_0 / total_listings)*100\n",
    "print(percentage_ava_0)\n",
    "### 1.6 % of datapoints have price = 0 -> we keep them \n"
   ]
  },
  {
   "cell_type": "code",
   "execution_count": 16,
   "id": "edc8f693-7fba-40fb-9cc0-6812133b157c",
   "metadata": {},
   "outputs": [
    {
     "name": "stdout",
     "output_type": "stream",
     "text": [
      "['Entire home/apt' 'Private room' 'Shared room' 'Hotel room']\n"
     ]
    }
   ],
   "source": [
    "## room_type\n",
    "### standardization of categories\n",
    "#### check the unique values of room_type to see if names are coherent\n",
    "print(pt['room_type'].unique())\n",
    "\n"
   ]
  },
  {
   "cell_type": "code",
   "execution_count": 17,
   "id": "70396fae-a8c8-44f3-865c-ecdfae60fa95",
   "metadata": {},
   "outputs": [
    {
     "name": "stdout",
     "output_type": "stream",
     "text": [
      "['PORTO' 'VILA NOVA DE GAIA' 'ESPINHO' 'MATOSINHOS' 'GONDOMAR'\n",
      " 'VILA DO CONDE' 'AROUCA' 'MAIA' 'VALONGO' 'PAREDES'\n",
      " 'SANTA MARIA DA FEIRA' 'VALE DE CAMBRA' 'PÓVOA DE VARZIM' 'TROFA'\n",
      " 'OLIVEIRA DE AZEMÉIS' 'SANTO TIRSO' 'SÃO JOÃO DA MADEIRA']\n"
     ]
    }
   ],
   "source": [
    "## neighbourhood_group\n",
    "### standardization of categories\n",
    "#### check the unique values of neighbourhood_group to see if names are coherent\n",
    "print(pt['neighbourhood_group'].unique())"
   ]
  },
  {
   "cell_type": "code",
   "execution_count": 18,
   "id": "19cf5ead-5906-48d4-9c03-baab5719a2ff",
   "metadata": {},
   "outputs": [
    {
     "name": "stdout",
     "output_type": "stream",
     "text": [
      "[False]\n"
     ]
    }
   ],
   "source": [
    "## accomodates\n",
    "### Convert to numeric type (int)\n",
    "pt['accommodates'] = pt['accommodates'].astype(int)\n",
    "### Check if there any listing that accommodates 0 guests\n",
    "print(pt['accommodates'].isnull().unique())"
   ]
  },
  {
   "cell_type": "code",
   "execution_count": 19,
   "id": "eb23ac73-96d4-412b-8f05-45c5182036b3",
   "metadata": {},
   "outputs": [],
   "source": [
    "## bathrooms\n",
    "### Convert to numeric type (float)\n",
    "pt['bathrooms'] = pt['bathrooms'].astype(float)\n",
    "### Relace nan for zero\n",
    "pt['bathrooms'] = pt['bathrooms'].fillna(0)\n"
   ]
  },
  {
   "cell_type": "code",
   "execution_count": 20,
   "id": "debbf9f4-af4a-44fc-94a4-e79e256d0552",
   "metadata": {},
   "outputs": [
    {
     "name": "stderr",
     "output_type": "stream",
     "text": [
      "/var/folders/67/kwhhh9lj76v79c9zbkp29ms40000gn/T/ipykernel_69282/2062248548.py:5: FutureWarning: Downcasting behavior in `replace` is deprecated and will be removed in a future version. To retain the old behavior, explicitly call `result.infer_objects(copy=False)`. To opt-in to the future behavior, set `pd.set_option('future.no_silent_downcasting', True)`\n",
      "  pt['host_is_superhost'] = pt['host_is_superhost'].replace({'f':False, 't':True})\n"
     ]
    }
   ],
   "source": [
    "## host_is_superhost\n",
    "### Relace nan for 'f'\n",
    "pt['host_is_superhost'] = pt['host_is_superhost'].fillna('f')\n",
    "### Ensure all values are Boolean (T/F)\n",
    "pt['host_is_superhost'] = pt['host_is_superhost'].replace({'f':False, 't':True})"
   ]
  },
  {
   "cell_type": "code",
   "execution_count": 21,
   "id": "872994c2-be0e-415b-bd43-ffc9a21fcace",
   "metadata": {},
   "outputs": [],
   "source": [
    "## reviews_per_month\n",
    "### Convert to numeric type (float)\n",
    "pt['reviews_per_month'] = pt['reviews_per_month'].astype(float)\n",
    "### Relace nan for zero\n",
    "pt['reviews_per_month'] = pt['reviews_per_month'].fillna(0)"
   ]
  },
  {
   "cell_type": "code",
   "execution_count": 22,
   "id": "0c8536be-7f4d-415f-96a6-a59062332cef",
   "metadata": {},
   "outputs": [
    {
     "data": {
      "text/plain": [
       "1123"
      ]
     },
     "execution_count": 22,
     "metadata": {},
     "output_type": "execute_result"
    }
   ],
   "source": [
    "## last_review\n",
    "### Relace nan for zero\n",
    "pt['last_review'] = pt['last_review'].fillna(0)\n",
    "### Check how many\n",
    "(pt['last_review'] == 0).sum()"
   ]
  },
  {
   "cell_type": "code",
   "execution_count": 23,
   "id": "a646107c-27b0-438d-b777-f2feddc4242a",
   "metadata": {},
   "outputs": [
    {
     "data": {
      "text/plain": [
       "1123"
      ]
     },
     "execution_count": 23,
     "metadata": {},
     "output_type": "execute_result"
    }
   ],
   "source": [
    "## first_review\n",
    "### Relace nan for zero\n",
    "pt['first_review'] = pt['first_review'].fillna(0)\n",
    "### Check how many are 0\n",
    "(pt['first_review'] == 0).sum()\n",
    "\n",
    "### Same nr of datapoint with no last_review and no first_review -> all good, same datapoints\n"
   ]
  },
  {
   "cell_type": "code",
   "execution_count": 24,
   "id": "7c0ac2f3-daac-4d26-9437-0a8a109eebd5",
   "metadata": {},
   "outputs": [
    {
     "name": "stdout",
     "output_type": "stream",
     "text": [
      "0\n"
     ]
    }
   ],
   "source": [
    "## latitude\n",
    "### Relace nan for zero\n",
    "pt['latitude'] = pt['latitude'].fillna(0)\n",
    "### Check how many are 0\n",
    "print((pt['latitude'] == 0).sum())"
   ]
  },
  {
   "cell_type": "code",
   "execution_count": 25,
   "id": "3ff3cd4c-7c18-47d4-b7b6-ad80cf53a720",
   "metadata": {},
   "outputs": [
    {
     "name": "stdout",
     "output_type": "stream",
     "text": [
      "0\n"
     ]
    }
   ],
   "source": [
    "## longitude\n",
    "### Relace nan for zero\n",
    "pt['longitude'] = pt['longitude'].fillna(0)\n",
    "### Check how many are 0\n",
    "print((pt['longitude'] == 0).sum())"
   ]
  },
  {
   "cell_type": "code",
   "execution_count": 26,
   "id": "5d1d8d9c-8798-4b2b-8554-3992ad3d05f6",
   "metadata": {},
   "outputs": [
    {
     "name": "stdout",
     "output_type": "stream",
     "text": [
      "['Entire rental unit' 'Boat' 'Entire guesthouse'\n",
      " 'Private room in guesthouse' 'Entire home' 'Private room in rental unit'\n",
      " 'Private room in home' 'Entire condo' 'Entire townhouse' 'Entire cottage'\n",
      " 'Entire villa' 'Tiny home' 'Farm stay' 'Entire loft'\n",
      " 'Room in boutique hotel' 'Private room in townhouse'\n",
      " 'Private room in condo' 'Private room in villa' 'Entire chalet'\n",
      " 'Entire serviced apartment' 'Private room in hostel'\n",
      " 'Shared room in hostel' 'Shared room in bed and breakfast' 'Windmill'\n",
      " 'Room in hostel' 'Camper/RV' 'Private room in guest suite'\n",
      " 'Private room in cottage' 'Earthen home'\n",
      " 'Private room in bed and breakfast' 'Entire bed and breakfast'\n",
      " 'Room in hotel' 'Shared room in home' 'Private room in boat'\n",
      " 'Entire guest suite' 'Private room in loft' 'Casa particular'\n",
      " 'Entire bungalow' 'Entire vacation home' 'Entire place'\n",
      " 'Private room in nature lodge' 'Shared room in rental unit'\n",
      " 'Private room in serviced apartment' 'Private room'\n",
      " 'Room in serviced apartment' 'Shared room in boutique hotel'\n",
      " 'Private room in tiny home' 'Shared room in guest suite'\n",
      " 'Room in bed and breakfast' 'Entire cabin' 'Private room in earthen home'\n",
      " 'Private room in casa particular' 'Private room in bungalow'\n",
      " 'Shared room in hotel' 'Barn' 'Hut' 'Private room in minsu'\n",
      " 'Private room in kezhan' 'Room in heritage hotel'\n",
      " 'Private room in farm stay' 'Shipping container' 'Campsite'\n",
      " 'Room in aparthotel' 'Tipi' 'Houseboat' 'Shared room in guesthouse'\n",
      " 'Private room in camper/rv' 'Treehouse' 'Private room in treehouse']\n"
     ]
    },
    {
     "data": {
      "text/plain": [
       "Index(['id', 'price', 'number_of_reviews', 'availability_365', 'room_type',\n",
       "       'neighbourhood', 'neighbourhood_group', 'accommodates', 'bedrooms',\n",
       "       'bathrooms', 'host_is_superhost', 'reviews_per_month', 'last_review',\n",
       "       'first_review', 'calculated_host_listings_count', 'latitude',\n",
       "       'longitude', 'minimum_nights', 'host_name', 'host_since',\n",
       "       'number_of_reviews_ltm', 'instant_bookable', 'host_response_rate',\n",
       "       'host_acceptance_rate', 'host_response_time'],\n",
       "      dtype='object')"
      ]
     },
     "execution_count": 26,
     "metadata": {},
     "output_type": "execute_result"
    }
   ],
   "source": [
    "## property_type\n",
    "### standardization of categories\n",
    "#### check the unique values of neighbourhood_group to see if names are coherent\n",
    "print(pt['property_type'].unique())\n",
    "### two many categories, we can drop this column\n",
    "pt = pt.drop('property_type',axis=1)\n",
    "pt.columns"
   ]
  },
  {
   "cell_type": "code",
   "execution_count": 27,
   "id": "450def0e-e945-4305-aa30-41c16bc42af3",
   "metadata": {},
   "outputs": [
    {
     "name": "stdout",
     "output_type": "stream",
     "text": [
      "0\n"
     ]
    }
   ],
   "source": [
    "## minimum_nights\n",
    "### Convert to numeric type (int)\n",
    "pt['minimum_nights'] = pt['minimum_nights'].astype(int)\n",
    "### Relace nan for zero\n",
    "pt['minimum_nights'] = pt['minimum_nights'].fillna(0)\n",
    "### Check how many are 0\n",
    "print((pt['minimum_nights'] == 0).sum())"
   ]
  },
  {
   "cell_type": "code",
   "execution_count": 28,
   "id": "eebac3d8-6b1b-4ec6-aefc-6aa64f0ce852",
   "metadata": {},
   "outputs": [
    {
     "name": "stdout",
     "output_type": "stream",
     "text": [
      "0\n"
     ]
    }
   ],
   "source": [
    "## host_name\n",
    "### Relace nan for zero\n",
    "pt['host_name'] = pt['host_name'].fillna(0)\n",
    "### Check how many are 0\n",
    "print((pt['host_name'] == 0).sum())"
   ]
  },
  {
   "cell_type": "code",
   "execution_count": 29,
   "id": "c9d15bcd-8224-4ecb-b040-b040326f07b5",
   "metadata": {},
   "outputs": [
    {
     "name": "stdout",
     "output_type": "stream",
     "text": [
      "0\n"
     ]
    }
   ],
   "source": [
    "## host_since\n",
    "### Relace nan for zero\n",
    "pt['host_since'] = pt['host_since'].fillna(0)\n",
    "### Check how many are 0\n",
    "print((pt['host_since'] == 0).sum())"
   ]
  },
  {
   "cell_type": "code",
   "execution_count": 30,
   "id": "6ea5d52d-97a6-46ea-b7ca-0e0d07c9af6c",
   "metadata": {},
   "outputs": [],
   "source": [
    "## number_of_reviews_ltm\n",
    "### Convert to numeric type (int)\n",
    "pt['number_of_reviews_ltm'] = pt['number_of_reviews_ltm'].astype(int)\n",
    "### Relace nan for zero\n",
    "pt['number_of_reviews_ltm'] = pt['number_of_reviews_ltm'].fillna(0)"
   ]
  },
  {
   "cell_type": "code",
   "execution_count": 31,
   "id": "331acfa0-91e5-408e-84b6-ec106666baf3",
   "metadata": {},
   "outputs": [
    {
     "name": "stderr",
     "output_type": "stream",
     "text": [
      "/var/folders/67/kwhhh9lj76v79c9zbkp29ms40000gn/T/ipykernel_69282/1914101287.py:5: FutureWarning: Downcasting behavior in `replace` is deprecated and will be removed in a future version. To retain the old behavior, explicitly call `result.infer_objects(copy=False)`. To opt-in to the future behavior, set `pd.set_option('future.no_silent_downcasting', True)`\n",
      "  pt['instant_bookable'] = pt['instant_bookable'].replace({'f':False, 't':True})\n"
     ]
    }
   ],
   "source": [
    "## instant_bookable\n",
    "### Relace nan for 'f'\n",
    "pt['instant_bookable'] = pt['instant_bookable'].fillna('f')\n",
    "### Ensure all values are Boolean (T/F)\n",
    "pt['instant_bookable'] = pt['instant_bookable'].replace({'f':False, 't':True})\n"
   ]
  },
  {
   "cell_type": "code",
   "execution_count": 32,
   "id": "d6516263-7015-4ff6-9326-851b99ab875c",
   "metadata": {},
   "outputs": [
    {
     "name": "stdout",
     "output_type": "stream",
     "text": [
      "1159\n"
     ]
    }
   ],
   "source": [
    "## host_response_rate\n",
    "### Convert to numeric type (float)\n",
    "pt['host_response_rate'] = pt['host_response_rate'].astype(float)\n",
    "### Relace nan for zero\n",
    "pt['host_response_rate'] = pt['host_response_rate'].fillna(0)\n",
    "### Check how many are 0\n",
    "print((pt['host_response_rate'] == 0).sum())\n",
    "### Replace \"0\" for AVG\n",
    "#### Create a series with only non-zero values for host_response_rate\n",
    "non_zero_series = pt['host_response_rate'][pt['host_response_rate'] != 0]\n",
    "#### Calculate the AVG of non_zero_series\n",
    "avg = non_zero_series.mean()\n",
    "### Replace \"0\" on pt for AVG of non_zero_series\n",
    "pt['host_response_rate'] =pt['host_response_rate'].replace(0,avg)\n"
   ]
  },
  {
   "cell_type": "code",
   "execution_count": 33,
   "id": "88cc0360-2e52-452b-b24b-1b03025efe63",
   "metadata": {},
   "outputs": [
    {
     "name": "stdout",
     "output_type": "stream",
     "text": [
      "941\n",
      "0\n"
     ]
    }
   ],
   "source": [
    "## host_acceptance_rate\n",
    "### Convert to numeric type (float)\n",
    "pt['host_acceptance_rate'] = pt['host_acceptance_rate'].astype(float)\n",
    "### Relace nan for zero\n",
    "pt['host_acceptance_rate'] = pt['host_acceptance_rate'].fillna(0)\n",
    "### Check how many are 0\n",
    "print((pt['host_acceptance_rate'] == 0).sum())\n",
    "### Check how many are > 1\n",
    "print((pt['host_acceptance_rate'] > 1).sum())"
   ]
  },
  {
   "cell_type": "code",
   "execution_count": 34,
   "id": "1a5c22bc-cff6-423d-af5e-8fc816b6b090",
   "metadata": {},
   "outputs": [
    {
     "name": "stdout",
     "output_type": "stream",
     "text": [
      "['within an hour' 'within a few hours' 'within a day' nan\n",
      " 'a few days or more']\n",
      "8.35223273637288\n"
     ]
    }
   ],
   "source": [
    "## host_response_time\n",
    "### standardization of categories\n",
    "#### check the unique values of neighbourhood_group to see if names are coherent\n",
    "print(pt['host_response_time'].unique())\n",
    "### Relace nan for zero\n",
    "pt['host_response_time'] = pt['host_response_time'].fillna(0)\n",
    "\n",
    "### Calculate ratio of datapoints where host_response_time = 0\n",
    "total_listings=len(pt)\n",
    "count_host_response_time_0 = (pt['host_response_time'] == 0).sum()\n",
    "percentage_host_response_time_0 = (count_host_response_time_0 / total_listings)*100\n",
    "print(percentage_host_response_time_0)\n",
    "### 7,6% of datapoints have host_response_time = 0\n",
    "### Delete listing where host_response_time = 0\n",
    "pt = pt[pt['host_response_time'] != 0]\n"
   ]
  },
  {
   "cell_type": "code",
   "execution_count": 35,
   "id": "cdd53f66-f533-4f96-9c8b-40c0d3a41741",
   "metadata": {},
   "outputs": [
    {
     "name": "stdout",
     "output_type": "stream",
     "text": [
      "Data exported successfully.\n"
     ]
    }
   ],
   "source": [
    "# EXPORT DATA TO CSV\n",
    "# EXPORT DATA TO CSV\n",
    "# Database connection parameters\n",
    "user = 'root'\n",
    "password = ''\n",
    "host = 'localhost'  # e.g., 'localhost'\n",
    "database = 'abnb'\n",
    "\n",
    "# Create a connection string\n",
    "connection_string = f'mysql+mysqlconnector://{user}:{password}@{host}/{database}'\n",
    "\n",
    "# Create a database engine\n",
    "engine = create_engine(connection_string)\n",
    "\n",
    "# Export DataFrame to MySQL\n",
    "try:\n",
    "    pt.to_sql('porto', con=engine, if_exists='replace', index=False)\n",
    "    print(\"Data exported successfully.\")\n",
    "except Exception as e:\n",
    "    print(f\"An error occurred: {e}\")\n"
   ]
  },
  {
   "cell_type": "code",
   "execution_count": 36,
   "id": "261bba9a-90a5-47db-a1bc-3d8fa2ce06c3",
   "metadata": {},
   "outputs": [
    {
     "data": {
      "text/plain": [
       "Index(['id', 'price', 'number_of_reviews', 'availability_365', 'room_type',\n",
       "       'neighbourhood', 'neighbourhood_group', 'accommodates', 'bedrooms',\n",
       "       'bathrooms', 'host_is_superhost', 'reviews_per_month', 'last_review',\n",
       "       'first_review', 'calculated_host_listings_count', 'latitude',\n",
       "       'longitude', 'minimum_nights', 'host_name', 'host_since',\n",
       "       'number_of_reviews_ltm', 'instant_bookable', 'host_response_rate',\n",
       "       'host_acceptance_rate', 'host_response_time'],\n",
       "      dtype='object')"
      ]
     },
     "execution_count": 36,
     "metadata": {},
     "output_type": "execute_result"
    }
   ],
   "source": [
    "pt.columns"
   ]
  }
 ],
 "metadata": {
  "kernelspec": {
   "display_name": "Python 3 (ipykernel)",
   "language": "python",
   "name": "python3"
  },
  "language_info": {
   "codemirror_mode": {
    "name": "ipython",
    "version": 3
   },
   "file_extension": ".py",
   "mimetype": "text/x-python",
   "name": "python",
   "nbconvert_exporter": "python",
   "pygments_lexer": "ipython3",
   "version": "3.12.4"
  }
 },
 "nbformat": 4,
 "nbformat_minor": 5
}
