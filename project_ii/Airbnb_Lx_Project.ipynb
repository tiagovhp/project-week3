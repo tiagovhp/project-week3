{
 "cells": [
  {
   "cell_type": "code",
   "execution_count": 459,
   "id": "d0d400bd-7c23-4532-9d2e-097a9a972403",
   "metadata": {},
   "outputs": [],
   "source": [
    "# AIRBNB (Lisbon & Porto) Analysis"
   ]
  },
  {
   "cell_type": "code",
   "execution_count": 460,
   "id": "e39ee298-087b-4131-8eec-44b8e8eb71d6",
   "metadata": {},
   "outputs": [
    {
     "name": "stdout",
     "output_type": "stream",
     "text": [
      "Requirement already satisfied: pandas in /opt/anaconda3/lib/python3.12/site-packages (2.2.2)\n",
      "Requirement already satisfied: mysql-connector-python in /opt/anaconda3/lib/python3.12/site-packages (9.0.0)\n",
      "Requirement already satisfied: numpy>=1.26.0 in /opt/anaconda3/lib/python3.12/site-packages (from pandas) (1.26.4)\n",
      "Requirement already satisfied: python-dateutil>=2.8.2 in /opt/anaconda3/lib/python3.12/site-packages (from pandas) (2.9.0.post0)\n",
      "Requirement already satisfied: pytz>=2020.1 in /opt/anaconda3/lib/python3.12/site-packages (from pandas) (2024.1)\n",
      "Requirement already satisfied: tzdata>=2022.7 in /opt/anaconda3/lib/python3.12/site-packages (from pandas) (2023.3)\n",
      "Requirement already satisfied: six>=1.5 in /opt/anaconda3/lib/python3.12/site-packages (from python-dateutil>=2.8.2->pandas) (1.16.0)\n"
     ]
    }
   ],
   "source": [
    "# Import libraries\n",
    "import pandas as pd\n",
    "!pip install pandas mysql-connector-python \n",
    "from sqlalchemy import create_engine"
   ]
  },
  {
   "cell_type": "code",
   "execution_count": null,
   "id": "b8296a9d-e4e7-45d7-9f96-903a29e130d3",
   "metadata": {},
   "outputs": [],
   "source": []
  },
  {
   "cell_type": "code",
   "execution_count": 461,
   "id": "e67044b3-7426-4de3-8adc-22fc234f37ae",
   "metadata": {},
   "outputs": [
    {
     "data": {
      "text/html": [
       "<div>\n",
       "<style scoped>\n",
       "    .dataframe tbody tr th:only-of-type {\n",
       "        vertical-align: middle;\n",
       "    }\n",
       "\n",
       "    .dataframe tbody tr th {\n",
       "        vertical-align: top;\n",
       "    }\n",
       "\n",
       "    .dataframe thead th {\n",
       "        text-align: right;\n",
       "    }\n",
       "</style>\n",
       "<table border=\"1\" class=\"dataframe\">\n",
       "  <thead>\n",
       "    <tr style=\"text-align: right;\">\n",
       "      <th></th>\n",
       "      <th>id</th>\n",
       "      <th>name</th>\n",
       "      <th>host_id</th>\n",
       "      <th>host_name</th>\n",
       "      <th>neighbourhood_group</th>\n",
       "      <th>neighbourhood</th>\n",
       "      <th>latitude</th>\n",
       "      <th>longitude</th>\n",
       "      <th>room_type</th>\n",
       "      <th>price</th>\n",
       "      <th>minimum_nights</th>\n",
       "      <th>number_of_reviews</th>\n",
       "      <th>last_review</th>\n",
       "      <th>reviews_per_month</th>\n",
       "      <th>calculated_host_listings_count</th>\n",
       "      <th>availability_365</th>\n",
       "      <th>number_of_reviews_ltm</th>\n",
       "      <th>license</th>\n",
       "    </tr>\n",
       "  </thead>\n",
       "  <tbody>\n",
       "    <tr>\n",
       "      <th>0</th>\n",
       "      <td>6499</td>\n",
       "      <td>Belém 1 Bedroom Historical Apartment</td>\n",
       "      <td>14455</td>\n",
       "      <td>Bruno</td>\n",
       "      <td>Lisboa</td>\n",
       "      <td>Belm</td>\n",
       "      <td>38.69750</td>\n",
       "      <td>-9.19768</td>\n",
       "      <td>Entire home/apt</td>\n",
       "      <td>84.0</td>\n",
       "      <td>4</td>\n",
       "      <td>76</td>\n",
       "      <td>2024-08-20</td>\n",
       "      <td>0.62</td>\n",
       "      <td>1</td>\n",
       "      <td>252</td>\n",
       "      <td>15</td>\n",
       "      <td>NaN</td>\n",
       "    </tr>\n",
       "    <tr>\n",
       "      <th>1</th>\n",
       "      <td>25659</td>\n",
       "      <td>Heart of Alfama - Le cœur d'Alfama (3 people)</td>\n",
       "      <td>107347</td>\n",
       "      <td>Ellie</td>\n",
       "      <td>Lisboa</td>\n",
       "      <td>Santa Maria Maior</td>\n",
       "      <td>38.71241</td>\n",
       "      <td>-9.12706</td>\n",
       "      <td>Entire home/apt</td>\n",
       "      <td>96.0</td>\n",
       "      <td>2</td>\n",
       "      <td>213</td>\n",
       "      <td>2024-09-13</td>\n",
       "      <td>1.68</td>\n",
       "      <td>1</td>\n",
       "      <td>270</td>\n",
       "      <td>19</td>\n",
       "      <td>56539/AL.</td>\n",
       "    </tr>\n",
       "    <tr>\n",
       "      <th>2</th>\n",
       "      <td>29396</td>\n",
       "      <td>Alfama Hill - Boutique apartment</td>\n",
       "      <td>126415</td>\n",
       "      <td>Mónica</td>\n",
       "      <td>Lisboa</td>\n",
       "      <td>Santa Maria Maior</td>\n",
       "      <td>38.71156</td>\n",
       "      <td>-9.12987</td>\n",
       "      <td>Entire home/apt</td>\n",
       "      <td>78.0</td>\n",
       "      <td>2</td>\n",
       "      <td>401</td>\n",
       "      <td>2024-09-06</td>\n",
       "      <td>2.67</td>\n",
       "      <td>1</td>\n",
       "      <td>295</td>\n",
       "      <td>22</td>\n",
       "      <td>28737/AL</td>\n",
       "    </tr>\n",
       "    <tr>\n",
       "      <th>3</th>\n",
       "      <td>29720</td>\n",
       "      <td>TheHOUSE - Your luxury home</td>\n",
       "      <td>128075</td>\n",
       "      <td>Francisco</td>\n",
       "      <td>Lisboa</td>\n",
       "      <td>Estrela</td>\n",
       "      <td>38.71108</td>\n",
       "      <td>-9.15979</td>\n",
       "      <td>Entire home/apt</td>\n",
       "      <td>1032.0</td>\n",
       "      <td>2</td>\n",
       "      <td>133</td>\n",
       "      <td>2024-09-01</td>\n",
       "      <td>0.80</td>\n",
       "      <td>1</td>\n",
       "      <td>263</td>\n",
       "      <td>24</td>\n",
       "      <td>55695/AL</td>\n",
       "    </tr>\n",
       "    <tr>\n",
       "      <th>4</th>\n",
       "      <td>29915</td>\n",
       "      <td>Modern and Spacious Apartment in Lisboa</td>\n",
       "      <td>128890</td>\n",
       "      <td>Sara</td>\n",
       "      <td>Lisboa</td>\n",
       "      <td>Avenidas Novas</td>\n",
       "      <td>38.74571</td>\n",
       "      <td>-9.15264</td>\n",
       "      <td>Entire home/apt</td>\n",
       "      <td>100.0</td>\n",
       "      <td>6</td>\n",
       "      <td>61</td>\n",
       "      <td>2024-05-20</td>\n",
       "      <td>0.35</td>\n",
       "      <td>1</td>\n",
       "      <td>92</td>\n",
       "      <td>5</td>\n",
       "      <td>85851/AL.</td>\n",
       "    </tr>\n",
       "  </tbody>\n",
       "</table>\n",
       "</div>"
      ],
      "text/plain": [
       "      id                                           name  host_id  host_name  \\\n",
       "0   6499           Belém 1 Bedroom Historical Apartment    14455      Bruno   \n",
       "1  25659  Heart of Alfama - Le cœur d'Alfama (3 people)   107347      Ellie   \n",
       "2  29396               Alfama Hill - Boutique apartment   126415     Mónica   \n",
       "3  29720                    TheHOUSE - Your luxury home   128075  Francisco   \n",
       "4  29915        Modern and Spacious Apartment in Lisboa   128890       Sara   \n",
       "\n",
       "  neighbourhood_group      neighbourhood  latitude  longitude  \\\n",
       "0              Lisboa               Belm  38.69750   -9.19768   \n",
       "1              Lisboa  Santa Maria Maior  38.71241   -9.12706   \n",
       "2              Lisboa  Santa Maria Maior  38.71156   -9.12987   \n",
       "3              Lisboa            Estrela  38.71108   -9.15979   \n",
       "4              Lisboa     Avenidas Novas  38.74571   -9.15264   \n",
       "\n",
       "         room_type   price  minimum_nights  number_of_reviews last_review  \\\n",
       "0  Entire home/apt    84.0               4                 76  2024-08-20   \n",
       "1  Entire home/apt    96.0               2                213  2024-09-13   \n",
       "2  Entire home/apt    78.0               2                401  2024-09-06   \n",
       "3  Entire home/apt  1032.0               2                133  2024-09-01   \n",
       "4  Entire home/apt   100.0               6                 61  2024-05-20   \n",
       "\n",
       "   reviews_per_month  calculated_host_listings_count  availability_365  \\\n",
       "0               0.62                               1               252   \n",
       "1               1.68                               1               270   \n",
       "2               2.67                               1               295   \n",
       "3               0.80                               1               263   \n",
       "4               0.35                               1                92   \n",
       "\n",
       "   number_of_reviews_ltm    license  \n",
       "0                     15        NaN  \n",
       "1                     19  56539/AL.  \n",
       "2                     22   28737/AL  \n",
       "3                     24   55695/AL  \n",
       "4                      5  85851/AL.  "
      ]
     },
     "execution_count": 461,
     "metadata": {},
     "output_type": "execute_result"
    }
   ],
   "source": [
    "# Read the excel files\n",
    "\n",
    "# Read and convert into DataFrame sheet 'listings_1'\n",
    "lx_listings_1 = pd.read_excel('/Users/tiagovhp/Ironhack/Week_3/Project/AIRBNB_LX_RAW.xlsx', sheet_name='listings_1')\n",
    "\n",
    "lx_listings_1 = pd.DataFrame(lx_listings_1)\n",
    "lx_listings_1.head()"
   ]
  },
  {
   "cell_type": "code",
   "execution_count": 462,
   "id": "27f47e30-758c-4d0d-bf23-c85364774f77",
   "metadata": {},
   "outputs": [
    {
     "data": {
      "text/html": [
       "<div>\n",
       "<style scoped>\n",
       "    .dataframe tbody tr th:only-of-type {\n",
       "        vertical-align: middle;\n",
       "    }\n",
       "\n",
       "    .dataframe tbody tr th {\n",
       "        vertical-align: top;\n",
       "    }\n",
       "\n",
       "    .dataframe thead th {\n",
       "        text-align: right;\n",
       "    }\n",
       "</style>\n",
       "<table border=\"1\" class=\"dataframe\">\n",
       "  <thead>\n",
       "    <tr style=\"text-align: right;\">\n",
       "      <th></th>\n",
       "      <th>id</th>\n",
       "      <th>listing_url</th>\n",
       "      <th>scrape_id</th>\n",
       "      <th>last_scraped</th>\n",
       "      <th>source</th>\n",
       "      <th>name</th>\n",
       "      <th>description</th>\n",
       "      <th>neighborhood_overview</th>\n",
       "      <th>picture_url</th>\n",
       "      <th>host_id</th>\n",
       "      <th>...</th>\n",
       "      <th>review_scores_communication</th>\n",
       "      <th>review_scores_location</th>\n",
       "      <th>review_scores_value</th>\n",
       "      <th>license</th>\n",
       "      <th>instant_bookable</th>\n",
       "      <th>calculated_host_listings_count</th>\n",
       "      <th>calculated_host_listings_count_entire_homes</th>\n",
       "      <th>calculated_host_listings_count_private_rooms</th>\n",
       "      <th>calculated_host_listings_count_shared_rooms</th>\n",
       "      <th>reviews_per_month</th>\n",
       "    </tr>\n",
       "  </thead>\n",
       "  <tbody>\n",
       "    <tr>\n",
       "      <th>0</th>\n",
       "      <td>208683</td>\n",
       "      <td>https://www.airbnb.com/rooms/208683</td>\n",
       "      <td>20240914011204</td>\n",
       "      <td>2024-09-14</td>\n",
       "      <td>city scrape</td>\n",
       "      <td>Cozy central apartment with view</td>\n",
       "      <td>This fully renovated apartment located in the ...</td>\n",
       "      <td>The Alfama neighborhood is one of the oldest n...</td>\n",
       "      <td>https://a0.muscache.com/pictures/21533977/a19d...</td>\n",
       "      <td>753902</td>\n",
       "      <td>...</td>\n",
       "      <td>4.87</td>\n",
       "      <td>4.90</td>\n",
       "      <td>4.66</td>\n",
       "      <td>35037/AL</td>\n",
       "      <td>t</td>\n",
       "      <td>5</td>\n",
       "      <td>5</td>\n",
       "      <td>0</td>\n",
       "      <td>0</td>\n",
       "      <td>0.92</td>\n",
       "    </tr>\n",
       "    <tr>\n",
       "      <th>1</th>\n",
       "      <td>211614</td>\n",
       "      <td>https://www.airbnb.com/rooms/211614</td>\n",
       "      <td>20240914011204</td>\n",
       "      <td>2024-09-15</td>\n",
       "      <td>previous scrape</td>\n",
       "      <td>Studio12 Monte Estoril Cascais -Pool and tennis</td>\n",
       "      <td>Nice studio at pool and garden level in a nice...</td>\n",
       "      <td>Monte Estoril is a high standard area close to...</td>\n",
       "      <td>https://a0.muscache.com/pictures/2081269/ba9d9...</td>\n",
       "      <td>758277</td>\n",
       "      <td>...</td>\n",
       "      <td>4.79</td>\n",
       "      <td>4.73</td>\n",
       "      <td>4.48</td>\n",
       "      <td>59068/AL</td>\n",
       "      <td>f</td>\n",
       "      <td>2</td>\n",
       "      <td>2</td>\n",
       "      <td>0</td>\n",
       "      <td>0</td>\n",
       "      <td>0.43</td>\n",
       "    </tr>\n",
       "    <tr>\n",
       "      <th>2</th>\n",
       "      <td>211616</td>\n",
       "      <td>https://www.airbnb.com/rooms/211616</td>\n",
       "      <td>20240914011204</td>\n",
       "      <td>2024-09-14</td>\n",
       "      <td>city scrape</td>\n",
       "      <td>Beguinhos: A balcony over Lisbon</td>\n",
       "      <td>A duplex apartment in Alfama with a beautiful ...</td>\n",
       "      <td>The apartment is located on the edge of the ol...</td>\n",
       "      <td>https://a0.muscache.com/pictures/2247589/788d1...</td>\n",
       "      <td>1091599</td>\n",
       "      <td>...</td>\n",
       "      <td>4.92</td>\n",
       "      <td>4.94</td>\n",
       "      <td>4.79</td>\n",
       "      <td>25786/AL</td>\n",
       "      <td>f</td>\n",
       "      <td>1</td>\n",
       "      <td>1</td>\n",
       "      <td>0</td>\n",
       "      <td>0</td>\n",
       "      <td>2.01</td>\n",
       "    </tr>\n",
       "    <tr>\n",
       "      <th>3</th>\n",
       "      <td>214729</td>\n",
       "      <td>https://www.airbnb.com/rooms/214729</td>\n",
       "      <td>20240914011204</td>\n",
       "      <td>2024-09-14</td>\n",
       "      <td>city scrape</td>\n",
       "      <td>Lisboa alojamento de curta duração</td>\n",
       "      <td>To get to know Lisbon close to everything.</td>\n",
       "      <td>Close to Campo Grande garden quiet area.</td>\n",
       "      <td>https://a0.muscache.com/pictures/1921350/43d8b...</td>\n",
       "      <td>1108485</td>\n",
       "      <td>...</td>\n",
       "      <td>4.98</td>\n",
       "      <td>4.85</td>\n",
       "      <td>4.85</td>\n",
       "      <td>NaN</td>\n",
       "      <td>f</td>\n",
       "      <td>2</td>\n",
       "      <td>0</td>\n",
       "      <td>2</td>\n",
       "      <td>0</td>\n",
       "      <td>0.36</td>\n",
       "    </tr>\n",
       "    <tr>\n",
       "      <th>4</th>\n",
       "      <td>217281</td>\n",
       "      <td>https://www.airbnb.com/rooms/217281</td>\n",
       "      <td>20240914011204</td>\n",
       "      <td>2024-09-14</td>\n",
       "      <td>city scrape</td>\n",
       "      <td>Room near the University of Lisbon</td>\n",
       "      <td>NaN</td>\n",
       "      <td>NaN</td>\n",
       "      <td>https://a0.muscache.com/pictures/1932692/c94d0...</td>\n",
       "      <td>1108485</td>\n",
       "      <td>...</td>\n",
       "      <td>5.00</td>\n",
       "      <td>5.00</td>\n",
       "      <td>5.00</td>\n",
       "      <td>6743/AL</td>\n",
       "      <td>f</td>\n",
       "      <td>2</td>\n",
       "      <td>0</td>\n",
       "      <td>2</td>\n",
       "      <td>0</td>\n",
       "      <td>0.42</td>\n",
       "    </tr>\n",
       "  </tbody>\n",
       "</table>\n",
       "<p>5 rows × 75 columns</p>\n",
       "</div>"
      ],
      "text/plain": [
       "       id                          listing_url       scrape_id last_scraped  \\\n",
       "0  208683  https://www.airbnb.com/rooms/208683  20240914011204   2024-09-14   \n",
       "1  211614  https://www.airbnb.com/rooms/211614  20240914011204   2024-09-15   \n",
       "2  211616  https://www.airbnb.com/rooms/211616  20240914011204   2024-09-14   \n",
       "3  214729  https://www.airbnb.com/rooms/214729  20240914011204   2024-09-14   \n",
       "4  217281  https://www.airbnb.com/rooms/217281  20240914011204   2024-09-14   \n",
       "\n",
       "            source                                             name  \\\n",
       "0      city scrape                 Cozy central apartment with view   \n",
       "1  previous scrape  Studio12 Monte Estoril Cascais -Pool and tennis   \n",
       "2      city scrape                 Beguinhos: A balcony over Lisbon   \n",
       "3      city scrape               Lisboa alojamento de curta duração   \n",
       "4      city scrape               Room near the University of Lisbon   \n",
       "\n",
       "                                         description  \\\n",
       "0  This fully renovated apartment located in the ...   \n",
       "1  Nice studio at pool and garden level in a nice...   \n",
       "2  A duplex apartment in Alfama with a beautiful ...   \n",
       "3         To get to know Lisbon close to everything.   \n",
       "4                                                NaN   \n",
       "\n",
       "                               neighborhood_overview  \\\n",
       "0  The Alfama neighborhood is one of the oldest n...   \n",
       "1  Monte Estoril is a high standard area close to...   \n",
       "2  The apartment is located on the edge of the ol...   \n",
       "3           Close to Campo Grande garden quiet area.   \n",
       "4                                                NaN   \n",
       "\n",
       "                                         picture_url  host_id  ...  \\\n",
       "0  https://a0.muscache.com/pictures/21533977/a19d...   753902  ...   \n",
       "1  https://a0.muscache.com/pictures/2081269/ba9d9...   758277  ...   \n",
       "2  https://a0.muscache.com/pictures/2247589/788d1...  1091599  ...   \n",
       "3  https://a0.muscache.com/pictures/1921350/43d8b...  1108485  ...   \n",
       "4  https://a0.muscache.com/pictures/1932692/c94d0...  1108485  ...   \n",
       "\n",
       "  review_scores_communication review_scores_location review_scores_value  \\\n",
       "0                        4.87                   4.90                4.66   \n",
       "1                        4.79                   4.73                4.48   \n",
       "2                        4.92                   4.94                4.79   \n",
       "3                        4.98                   4.85                4.85   \n",
       "4                        5.00                   5.00                5.00   \n",
       "\n",
       "    license instant_bookable calculated_host_listings_count  \\\n",
       "0  35037/AL                t                              5   \n",
       "1  59068/AL                f                              2   \n",
       "2  25786/AL                f                              1   \n",
       "3       NaN                f                              2   \n",
       "4   6743/AL                f                              2   \n",
       "\n",
       "   calculated_host_listings_count_entire_homes  \\\n",
       "0                                            5   \n",
       "1                                            2   \n",
       "2                                            1   \n",
       "3                                            0   \n",
       "4                                            0   \n",
       "\n",
       "   calculated_host_listings_count_private_rooms  \\\n",
       "0                                             0   \n",
       "1                                             0   \n",
       "2                                             0   \n",
       "3                                             2   \n",
       "4                                             2   \n",
       "\n",
       "  calculated_host_listings_count_shared_rooms reviews_per_month  \n",
       "0                                           0              0.92  \n",
       "1                                           0              0.43  \n",
       "2                                           0              2.01  \n",
       "3                                           0              0.36  \n",
       "4                                           0              0.42  \n",
       "\n",
       "[5 rows x 75 columns]"
      ]
     },
     "execution_count": 462,
     "metadata": {},
     "output_type": "execute_result"
    }
   ],
   "source": [
    "# Read and convert into DataFrame sheet 'listings_2'\n",
    "lx_listings_2 = pd.read_excel('/Users/tiagovhp/Ironhack/Week_3/Project/AIRBNB_LX_RAW.xlsx', sheet_name='listings_2')\n",
    "\n",
    "lx_listings_2 = pd.DataFrame(lx_listings_2)\n",
    "lx_listings_2.head()"
   ]
  },
  {
   "cell_type": "code",
   "execution_count": 463,
   "id": "fa2649db-fee2-42b5-b34b-e348429501e1",
   "metadata": {},
   "outputs": [
    {
     "name": "stdout",
     "output_type": "stream",
     "text": [
      "Index(['id', 'name', 'host_id', 'host_name', 'neighbourhood_group',\n",
      "       'neighbourhood', 'latitude', 'longitude', 'room_type', 'price',\n",
      "       'minimum_nights', 'number_of_reviews', 'last_review',\n",
      "       'reviews_per_month', 'calculated_host_listings_count',\n",
      "       'availability_365', 'number_of_reviews_ltm', 'license'],\n",
      "      dtype='object')\n",
      "Index(['id', 'listing_url', 'scrape_id', 'last_scraped', 'source', 'name',\n",
      "       'description', 'neighborhood_overview', 'picture_url', 'host_id',\n",
      "       'host_url', 'host_name', 'host_since', 'host_location', 'host_about',\n",
      "       'host_response_time', 'host_response_rate', 'host_acceptance_rate',\n",
      "       'host_is_superhost', 'host_thumbnail_url', 'host_picture_url',\n",
      "       'host_neighbourhood', 'host_listings_count',\n",
      "       'host_total_listings_count', 'host_verifications',\n",
      "       'host_has_profile_pic', 'host_identity_verified', 'neighbourhood',\n",
      "       'neighbourhood_cleansed', 'neighbourhood_group_cleansed', 'latitude',\n",
      "       'longitude', 'property_type', 'room_type', 'accommodates', 'bathrooms',\n",
      "       'bathrooms_text', 'bedrooms', 'beds', 'amenities', 'price',\n",
      "       'minimum_nights', 'maximum_nights', 'minimum_minimum_nights',\n",
      "       'maximum_minimum_nights', 'minimum_maximum_nights',\n",
      "       'maximum_maximum_nights', 'minimum_nights_avg_ntm',\n",
      "       'maximum_nights_avg_ntm', 'calendar_updated', 'has_availability',\n",
      "       'availability_30', 'availability_60', 'availability_90',\n",
      "       'availability_365', 'calendar_last_scraped', 'number_of_reviews',\n",
      "       'number_of_reviews_ltm', 'number_of_reviews_l30d', 'first_review',\n",
      "       'last_review', 'review_scores_rating', 'review_scores_accuracy',\n",
      "       'review_scores_cleanliness', 'review_scores_checkin',\n",
      "       'review_scores_communication', 'review_scores_location',\n",
      "       'review_scores_value', 'license', 'instant_bookable',\n",
      "       'calculated_host_listings_count',\n",
      "       'calculated_host_listings_count_entire_homes',\n",
      "       'calculated_host_listings_count_private_rooms',\n",
      "       'calculated_host_listings_count_shared_rooms', 'reviews_per_month'],\n",
      "      dtype='object')\n"
     ]
    }
   ],
   "source": [
    "# evaluate the columns in each DataFrame\n",
    "print(lx_listings_1.columns)\n",
    "print(lx_listings_2.columns)"
   ]
  },
  {
   "cell_type": "code",
   "execution_count": 464,
   "id": "319a0334-f7bc-48db-841d-6e3b98e43135",
   "metadata": {},
   "outputs": [
    {
     "data": {
      "text/plain": [
       "['id',\n",
       " 'name',\n",
       " 'host_id',\n",
       " 'host_name',\n",
       " 'neighbourhood',\n",
       " 'latitude',\n",
       " 'longitude',\n",
       " 'room_type',\n",
       " 'price',\n",
       " 'minimum_nights',\n",
       " 'number_of_reviews',\n",
       " 'last_review',\n",
       " 'reviews_per_month',\n",
       " 'calculated_host_listings_count',\n",
       " 'availability_365',\n",
       " 'number_of_reviews_ltm',\n",
       " 'license']"
      ]
     },
     "execution_count": 464,
     "metadata": {},
     "output_type": "execute_result"
    }
   ],
   "source": [
    "# Find the common columns between two Dataframes\n",
    "common_columns = lx_listings_1.columns.intersection(lx_listings_2.columns).tolist()\n",
    "common_columns"
   ]
  },
  {
   "cell_type": "code",
   "execution_count": 465,
   "id": "b11ff2e3-933c-40a0-94c5-ac6a5093deaf",
   "metadata": {},
   "outputs": [],
   "source": [
    "#Covert 'price' to float on both dataframes\n",
    "#(was not able to merge because differnet type of price data)\n",
    "#lx_listings_1['price'] = pd.to_numeric(lx_listings_1['price'])\n",
    "#lx_listings_2['price'] = pd.to_numeric(lx_listings_2['price'])"
   ]
  },
  {
   "cell_type": "code",
   "execution_count": 466,
   "id": "ae690bb2-de89-4b2d-9b95-8538bffeee7b",
   "metadata": {},
   "outputs": [],
   "source": [
    "# Drop all common columns from listings_2  exept 'id'\n",
    "common_columns.remove('id')\n",
    "common_columns\n",
    "\n",
    "lx_listings_2 = lx_listings_2.drop(columns=common_columns)"
   ]
  },
  {
   "cell_type": "code",
   "execution_count": null,
   "id": "0ce95029-4639-4291-8419-40fa3f19499b",
   "metadata": {},
   "outputs": [],
   "source": []
  },
  {
   "cell_type": "code",
   "execution_count": 467,
   "id": "1bad150b-9cca-4472-a956-cbc7d90a89e2",
   "metadata": {},
   "outputs": [
    {
     "data": {
      "text/plain": [
       "True"
      ]
     },
     "execution_count": 467,
     "metadata": {},
     "output_type": "execute_result"
    }
   ],
   "source": [
    "# Merge the two DataFrames into one that contains all the info from Lisbon listings\n",
    "lx = pd.merge(lx_listings_1,lx_listings_2,on='id',how='inner')\n",
    "\n",
    "# Check if there are any duplicate columns\n",
    "len(lx.columns) == len(set(lx.columns))\n",
    "\n",
    "\n"
   ]
  },
  {
   "cell_type": "code",
   "execution_count": 468,
   "id": "dc7478d5-548e-410f-8e6e-97af2e74d70e",
   "metadata": {},
   "outputs": [
    {
     "data": {
      "text/plain": [
       "(24204, 26)"
      ]
     },
     "execution_count": 468,
     "metadata": {},
     "output_type": "execute_result"
    }
   ],
   "source": [
    "# Create a new Dataframe with only the usefull columns\n",
    "top_25_columns = [\n",
    "    'id',\n",
    "    'price',\n",
    "    'number_of_reviews',\n",
    "    'availability_365',\n",
    "    'room_type',\n",
    "    'neighbourhood',\n",
    "    'neighbourhood_group',\n",
    "    'accommodates',\n",
    "    'bedrooms',\n",
    "    'bathrooms',\n",
    "    'host_is_superhost',\n",
    "    'reviews_per_month',\n",
    "    'last_review',\n",
    "    'first_review',\n",
    "    'calculated_host_listings_count',\n",
    "    'latitude',\n",
    "    'longitude',\n",
    "    'property_type',\n",
    "    'minimum_nights',\n",
    "    'host_name',\n",
    "    'host_since',\n",
    "    'number_of_reviews_ltm',\n",
    "    'instant_bookable',\n",
    "    'host_response_rate',\n",
    "    'host_acceptance_rate',\n",
    "    'host_response_time'\n",
    "]\n",
    "\n",
    "\n",
    "lx = lx[top_25_columns]\n",
    "lx.shape"
   ]
  },
  {
   "cell_type": "code",
   "execution_count": 469,
   "id": "a504ee7e-6d3a-4cdb-bb90-ae3d1cb92389",
   "metadata": {},
   "outputs": [],
   "source": [
    "# DATA CLEANING"
   ]
  },
  {
   "cell_type": "code",
   "execution_count": 470,
   "id": "08e86ec3-eeef-4dc4-8082-4fa032f42043",
   "metadata": {},
   "outputs": [
    {
     "name": "stdout",
     "output_type": "stream",
     "text": [
      "0\n",
      "True\n"
     ]
    }
   ],
   "source": [
    "## id\n",
    "### Convert to numeric type (int)\n",
    "lx['id'] = lx['id'].astype(int)\n",
    "### See if there is any empty or 0 id's \n",
    "lx['id'] = lx['id'].fillna(0)\n",
    "print((lx['id'] == 0).sum())\n",
    "### Check for duplicates\n",
    "print(len(set(lx['id'])) == len(lx['id']))"
   ]
  },
  {
   "cell_type": "code",
   "execution_count": 471,
   "id": "066bc6c3-6704-4624-a6b9-d2c5d2435c09",
   "metadata": {},
   "outputs": [
    {
     "name": "stdout",
     "output_type": "stream",
     "text": [
      "12.27483060651132\n"
     ]
    }
   ],
   "source": [
    "## price\n",
    "### Remove any non-numeric characters ( $ n) -> done in excel\n",
    "### Convert to numeric type (float)\n",
    "lx['price'] = pd.to_numeric(lx['price'])\n",
    "### Relace nan for zero\n",
    "lx['price'] = lx['price'].fillna(0)\n",
    "### Calculate ratio of datapoints where price = 0\n",
    "total_listings=len(lx)\n",
    "count_price_0 = (lx['price'] == 0).sum()\n",
    "percentage_price_0 = (count_price_0 / total_listings)*100\n",
    "print(percentage_price_0)\n",
    "### 12,3% of datapoints have price = 0\n",
    "### Delete listing where price = 0\n",
    "lx = lx[lx['price'] != 0]\n",
    "\n"
   ]
  },
  {
   "cell_type": "code",
   "execution_count": 472,
   "id": "6658760a-968c-4910-ad82-289b59844ca8",
   "metadata": {},
   "outputs": [],
   "source": [
    "## number_of_reviews\n",
    "### Convert to numeric type (int)\n",
    "lx['number_of_reviews'] = lx['number_of_reviews'].astype(int)\n",
    "### Relace nan for zero\n",
    "lx['number_of_reviews'] = lx['number_of_reviews'].fillna(0)\n"
   ]
  },
  {
   "cell_type": "code",
   "execution_count": 473,
   "id": "55642ab3-367e-48e8-82eb-73decd016ee4",
   "metadata": {},
   "outputs": [
    {
     "name": "stdout",
     "output_type": "stream",
     "text": [
      "1.568313474308859\n"
     ]
    }
   ],
   "source": [
    "## availability_365\n",
    "### Convert to numeric type (int)\n",
    "lx['availability_365'] = lx['availability_365'].astype(int)\n",
    "### Relace nan for zero\n",
    "lx['availability_365'] = lx['availability_365'].fillna(0)\n",
    "### Calculate ratio of datapoints where availability_365 = 0\n",
    "total_listings=len(lx)\n",
    "count_avaia_0 = (lx['availability_365'] == 0).sum()\n",
    "percentage_ava_0 = (count_avaia_0 / total_listings)*100\n",
    "print(percentage_ava_0)\n",
    "### 1.6 % of datapoints have price = 0 -> we keep them \n"
   ]
  },
  {
   "cell_type": "code",
   "execution_count": 474,
   "id": "edc8f693-7fba-40fb-9cc0-6812133b157c",
   "metadata": {},
   "outputs": [
    {
     "name": "stdout",
     "output_type": "stream",
     "text": [
      "['Entire home/apt' 'Private room' 'Shared room' 'Hotel room']\n"
     ]
    }
   ],
   "source": [
    "## room_type\n",
    "### standardization of categories\n",
    "#### check the unique values of room_type to see if names are coherent\n",
    "print(lx['room_type'].unique())\n",
    "\n"
   ]
  },
  {
   "cell_type": "code",
   "execution_count": 475,
   "id": "70396fae-a8c8-44f3-865c-ecdfae60fa95",
   "metadata": {},
   "outputs": [
    {
     "name": "stdout",
     "output_type": "stream",
     "text": [
      "['Lisboa' 'Cascais' 'Sintra' 'Oeiras' 'Mafra' 'Torres Vedras' 'Lourinh'\n",
      " 'Cadaval' 'Amadora' 'Alenquer' 'Odivelas' 'Loures' 'Vila Franca De Xira'\n",
      " 'Arruda Dos Vinhos' 'Azambuja' 'Sobral De Monte Agrao']\n"
     ]
    }
   ],
   "source": [
    "## neighbourhood_group\n",
    "### standardization of categories\n",
    "#### check the unique values of neighbourhood_group to see if names are coherent\n",
    "print(lx['neighbourhood_group'].unique())"
   ]
  },
  {
   "cell_type": "code",
   "execution_count": 476,
   "id": "19cf5ead-5906-48d4-9c03-baab5719a2ff",
   "metadata": {},
   "outputs": [
    {
     "name": "stdout",
     "output_type": "stream",
     "text": [
      "[False]\n"
     ]
    }
   ],
   "source": [
    "## accomodates\n",
    "### Convert to numeric type (int)\n",
    "lx['accommodates'] = lx['accommodates'].astype(int)\n",
    "### Check if there any listing that accommodates 0 guests\n",
    "print(lx['accommodates'].isnull().unique())"
   ]
  },
  {
   "cell_type": "code",
   "execution_count": 477,
   "id": "eb23ac73-96d4-412b-8f05-45c5182036b3",
   "metadata": {},
   "outputs": [],
   "source": [
    "## bathrooms\n",
    "### Convert to numeric type (float)\n",
    "lx['bathrooms'] = lx['bathrooms'].astype(float)\n",
    "### Relace nan for zero\n",
    "lx['bathrooms'] = lx['bathrooms'].fillna(0)\n"
   ]
  },
  {
   "cell_type": "code",
   "execution_count": 478,
   "id": "debbf9f4-af4a-44fc-94a4-e79e256d0552",
   "metadata": {},
   "outputs": [
    {
     "name": "stderr",
     "output_type": "stream",
     "text": [
      "/var/folders/67/kwhhh9lj76v79c9zbkp29ms40000gn/T/ipykernel_68642/2513663677.py:5: FutureWarning: Downcasting behavior in `replace` is deprecated and will be removed in a future version. To retain the old behavior, explicitly call `result.infer_objects(copy=False)`. To opt-in to the future behavior, set `pd.set_option('future.no_silent_downcasting', True)`\n",
      "  lx['host_is_superhost'] = lx['host_is_superhost'].replace({'f':False, 't':True})\n"
     ]
    }
   ],
   "source": [
    "## host_is_superhost\n",
    "### Relace nan for 'f'\n",
    "lx['host_is_superhost'] = lx['host_is_superhost'].fillna('f')\n",
    "### Ensure all values are Boolean (T/F)\n",
    "lx['host_is_superhost'] = lx['host_is_superhost'].replace({'f':False, 't':True})"
   ]
  },
  {
   "cell_type": "code",
   "execution_count": 479,
   "id": "872994c2-be0e-415b-bd43-ffc9a21fcace",
   "metadata": {},
   "outputs": [],
   "source": [
    "## reviews_per_month\n",
    "### Convert to numeric type (float)\n",
    "lx['reviews_per_month'] = lx['reviews_per_month'].astype(float)\n",
    "### Relace nan for zero\n",
    "lx['reviews_per_month'] = lx['reviews_per_month'].fillna(0)"
   ]
  },
  {
   "cell_type": "code",
   "execution_count": 480,
   "id": "0c8536be-7f4d-415f-96a6-a59062332cef",
   "metadata": {},
   "outputs": [
    {
     "data": {
      "text/plain": [
       "2394"
      ]
     },
     "execution_count": 480,
     "metadata": {},
     "output_type": "execute_result"
    }
   ],
   "source": [
    "## last_review\n",
    "### Relace nan for zero\n",
    "lx['last_review'] = lx['last_review'].fillna(0)\n",
    "### Check how many\n",
    "(lx['last_review'] == 0).sum()"
   ]
  },
  {
   "cell_type": "code",
   "execution_count": 481,
   "id": "a646107c-27b0-438d-b777-f2feddc4242a",
   "metadata": {},
   "outputs": [
    {
     "data": {
      "text/plain": [
       "2394"
      ]
     },
     "execution_count": 481,
     "metadata": {},
     "output_type": "execute_result"
    }
   ],
   "source": [
    "## first_review\n",
    "### Relace nan for zero\n",
    "lx['first_review'] = lx['first_review'].fillna(0)\n",
    "### Check how many are 0\n",
    "(lx['first_review'] == 0).sum()\n",
    "## Same nr of datapoint with no last_review and no first_review -> all good, same datapoints"
   ]
  },
  {
   "cell_type": "code",
   "execution_count": 482,
   "id": "7c0ac2f3-daac-4d26-9437-0a8a109eebd5",
   "metadata": {},
   "outputs": [
    {
     "name": "stdout",
     "output_type": "stream",
     "text": [
      "0\n"
     ]
    }
   ],
   "source": [
    "## latitude\n",
    "### Relace nan for zero\n",
    "lx['latitude'] = lx['latitude'].fillna(0)\n",
    "### Check how many are 0\n",
    "print((lx['latitude'] == 0).sum())"
   ]
  },
  {
   "cell_type": "code",
   "execution_count": 483,
   "id": "3ff3cd4c-7c18-47d4-b7b6-ad80cf53a720",
   "metadata": {},
   "outputs": [
    {
     "name": "stdout",
     "output_type": "stream",
     "text": [
      "0\n"
     ]
    }
   ],
   "source": [
    "## longitude\n",
    "### Relace nan for zero\n",
    "lx['longitude'] = lx['longitude'].fillna(0)\n",
    "### Check how many are 0\n",
    "print((lx['longitude'] == 0).sum())"
   ]
  },
  {
   "cell_type": "code",
   "execution_count": 484,
   "id": "5d1d8d9c-8798-4b2b-8554-3992ad3d05f6",
   "metadata": {},
   "outputs": [
    {
     "name": "stdout",
     "output_type": "stream",
     "text": [
      "['Entire rental unit' 'Entire condo' 'Private room in rental unit'\n",
      " 'Private room in condo' 'Entire home' 'Private room in boat'\n",
      " 'Entire serviced apartment' 'Entire cottage' 'Private room in townhouse'\n",
      " 'Entire loft' 'Entire chalet' 'Private room in home'\n",
      " 'Private room in bed and breakfast' 'Tiny home' 'Entire townhouse' 'Boat'\n",
      " 'Entire guesthouse' 'Entire guest suite' 'Entire villa' 'Private room'\n",
      " 'Casa particular' 'Shared room in home'\n",
      " 'Private room in serviced apartment' 'Shared room in serviced apartment'\n",
      " 'Shared room in hostel' 'Private room in hostel' 'Private room in villa'\n",
      " 'Private room in guesthouse' 'Windmill' 'Private room in guest suite'\n",
      " 'Private room in cottage' 'Entire bungalow'\n",
      " 'Private room in nature lodge' 'Room in bed and breakfast' 'Earthen home'\n",
      " 'Entire bed and breakfast' 'Entire vacation home'\n",
      " 'Private room in farm stay' 'Entire cabin' 'Private room in castle'\n",
      " 'Room in boutique hotel' 'Castle' 'Shared room in rental unit'\n",
      " 'Room in hostel' 'Room in serviced apartment' 'Private room in chalet'\n",
      " 'Shared room in guesthouse' 'Room in hotel' 'Room in nature lodge'\n",
      " 'Shared room in bed and breakfast' 'Entire place' 'Camper/RV'\n",
      " 'Lighthouse' 'Private room in camper/rv' 'Cave' 'Farm stay' 'Hut'\n",
      " 'Private room in cabin' 'Private room in tiny home' 'Treehouse'\n",
      " 'Entire hostel' 'Room in aparthotel' 'Private room in casa particular'\n",
      " 'Shipping container' 'Campsite' 'Private room in bungalow' 'Houseboat'\n",
      " 'Shared room in boutique hotel' 'Private room in dome'\n",
      " 'Shared room in hotel' 'Entire home/apt' 'Private room in loft' 'Tent'\n",
      " 'Private room in tent' 'Private room in earthen home'\n",
      " 'Shared room in condo' 'Dome' 'Private room in vacation home'\n",
      " 'Shared room in townhouse' 'Bus' 'Holiday park' 'Shared room in villa'\n",
      " 'Barn' 'Private room in minsu' 'Religious building'\n",
      " 'Private room in windmill']\n"
     ]
    },
    {
     "data": {
      "text/plain": [
       "Index(['id', 'price', 'number_of_reviews', 'availability_365', 'room_type',\n",
       "       'neighbourhood', 'neighbourhood_group', 'accommodates', 'bedrooms',\n",
       "       'bathrooms', 'host_is_superhost', 'reviews_per_month', 'last_review',\n",
       "       'first_review', 'calculated_host_listings_count', 'latitude',\n",
       "       'longitude', 'minimum_nights', 'host_name', 'host_since',\n",
       "       'number_of_reviews_ltm', 'instant_bookable', 'host_response_rate',\n",
       "       'host_acceptance_rate', 'host_response_time'],\n",
       "      dtype='object')"
      ]
     },
     "execution_count": 484,
     "metadata": {},
     "output_type": "execute_result"
    }
   ],
   "source": [
    "## property_type\n",
    "### standardization of categories\n",
    "#### check the unique values of neighbourhood_group to see if names are coherent\n",
    "print(lx['property_type'].unique())\n",
    "### two many categories, we can drop this column\n",
    "lx = lx.drop('property_type',axis=1)\n",
    "lx.columns"
   ]
  },
  {
   "cell_type": "code",
   "execution_count": 485,
   "id": "450def0e-e945-4305-aa30-41c16bc42af3",
   "metadata": {},
   "outputs": [
    {
     "name": "stdout",
     "output_type": "stream",
     "text": [
      "0\n"
     ]
    }
   ],
   "source": [
    "## minimum_nights\n",
    "### Convert to numeric type (int)\n",
    "lx['minimum_nights'] = lx['minimum_nights'].astype(int)\n",
    "### Relace nan for zero\n",
    "lx['minimum_nights'] = lx['minimum_nights'].fillna(0)\n",
    "### Check how many are 0\n",
    "print((lx['minimum_nights'] == 0).sum())"
   ]
  },
  {
   "cell_type": "code",
   "execution_count": 486,
   "id": "eebac3d8-6b1b-4ec6-aefc-6aa64f0ce852",
   "metadata": {},
   "outputs": [
    {
     "name": "stdout",
     "output_type": "stream",
     "text": [
      "0\n"
     ]
    }
   ],
   "source": [
    "## host_name\n",
    "### Relace nan for zero\n",
    "lx['host_name'] = lx['host_name'].fillna(0)\n",
    "### Check how many are 0\n",
    "print((lx['host_name'] == 0).sum())"
   ]
  },
  {
   "cell_type": "code",
   "execution_count": 487,
   "id": "c9d15bcd-8224-4ecb-b040-b040326f07b5",
   "metadata": {},
   "outputs": [
    {
     "name": "stdout",
     "output_type": "stream",
     "text": [
      "0\n"
     ]
    }
   ],
   "source": [
    "## host_since\n",
    "### Relace nan for zero\n",
    "lx['host_since'] = lx['host_since'].fillna(0)\n",
    "### Check how many are 0\n",
    "print((lx['host_since'] == 0).sum())"
   ]
  },
  {
   "cell_type": "code",
   "execution_count": 488,
   "id": "6ea5d52d-97a6-46ea-b7ca-0e0d07c9af6c",
   "metadata": {},
   "outputs": [],
   "source": [
    "## number_of_reviews_ltm\n",
    "### Convert to numeric type (int)\n",
    "lx['number_of_reviews_ltm'] = lx['number_of_reviews_ltm'].astype(int)\n",
    "### Relace nan for zero\n",
    "lx['number_of_reviews_ltm'] = lx['number_of_reviews_ltm'].fillna(0)"
   ]
  },
  {
   "cell_type": "code",
   "execution_count": 489,
   "id": "331acfa0-91e5-408e-84b6-ec106666baf3",
   "metadata": {},
   "outputs": [
    {
     "name": "stderr",
     "output_type": "stream",
     "text": [
      "/var/folders/67/kwhhh9lj76v79c9zbkp29ms40000gn/T/ipykernel_68642/3250930934.py:5: FutureWarning: Downcasting behavior in `replace` is deprecated and will be removed in a future version. To retain the old behavior, explicitly call `result.infer_objects(copy=False)`. To opt-in to the future behavior, set `pd.set_option('future.no_silent_downcasting', True)`\n",
      "  lx['instant_bookable'] = lx['instant_bookable'].replace({'f':False, 't':True})\n"
     ]
    }
   ],
   "source": [
    "## instant_bookable\n",
    "### Relace nan for 'f'\n",
    "lx['instant_bookable'] = lx['instant_bookable'].fillna('f')\n",
    "### Ensure all values are Boolean (T/F)\n",
    "lx['instant_bookable'] = lx['instant_bookable'].replace({'f':False, 't':True})\n"
   ]
  },
  {
   "cell_type": "code",
   "execution_count": 490,
   "id": "d6516263-7015-4ff6-9326-851b99ab875c",
   "metadata": {},
   "outputs": [
    {
     "name": "stdout",
     "output_type": "stream",
     "text": [
      "1853\n"
     ]
    }
   ],
   "source": [
    "## host_response_rate\n",
    "### Convert to numeric type (float)\n",
    "lx['host_response_rate'] = lx['host_response_rate'].astype(float)\n",
    "### Relace nan for zero\n",
    "lx['host_response_rate'] = lx['host_response_rate'].fillna(0)\n",
    "### Check how many are 0\n",
    "print((lx['host_response_rate'] == 0).sum())\n",
    "### Replace \"0\" for AVG\n",
    "#### Create a series with only non-zero values for host_response_rate\n",
    "non_zero_series = lx['host_response_rate'][lx['host_response_rate'] != 0]\n",
    "#### Calculate the AVG of non_zero_series\n",
    "avg = non_zero_series.mean()\n",
    "### Replace \"0\" on lx for AVG of non_zero_series\n",
    "lx['host_response_rate'] =lx['host_response_rate'].replace(0,avg)\n"
   ]
  },
  {
   "cell_type": "code",
   "execution_count": 491,
   "id": "88cc0360-2e52-452b-b24b-1b03025efe63",
   "metadata": {},
   "outputs": [
    {
     "name": "stdout",
     "output_type": "stream",
     "text": [
      "1528\n",
      "0\n"
     ]
    }
   ],
   "source": [
    "## host_acceptance_rate\n",
    "### Convert to numeric type (float)\n",
    "lx['host_acceptance_rate'] = lx['host_acceptance_rate'].astype(float)\n",
    "### Relace nan for zero\n",
    "lx['host_acceptance_rate'] = lx['host_acceptance_rate'].fillna(0)\n",
    "### Check how many are 0\n",
    "print((lx['host_acceptance_rate'] == 0).sum())\n",
    "### Check how many are > 1\n",
    "print((lx['host_acceptance_rate'] > 1).sum())"
   ]
  },
  {
   "cell_type": "code",
   "execution_count": 492,
   "id": "1a5c22bc-cff6-423d-af5e-8fc816b6b090",
   "metadata": {},
   "outputs": [
    {
     "name": "stdout",
     "output_type": "stream",
     "text": [
      "['within an hour' 'within a few hours' nan 'within a day'\n",
      " 'a few days or more']\n",
      "7.639052418405312\n"
     ]
    }
   ],
   "source": [
    "## host_response_time\n",
    "### standardization of categories\n",
    "#### check the unique values of neighbourhood_group to see if names are coherent\n",
    "print(lx['host_response_time'].unique())\n",
    "### Relace nan for zero\n",
    "lx['host_response_time'] = lx['host_response_time'].fillna(0)\n",
    "\n",
    "### Calculate ratio of datapoints where host_response_time = 0\n",
    "total_listings=len(lx)\n",
    "count_host_response_time_0 = (lx['host_response_time'] == 0).sum()\n",
    "percentage_host_response_time_0 = (count_host_response_time_0 / total_listings)*100\n",
    "print(percentage_host_response_time_0)\n",
    "### 7,6% of datapoints have host_response_time = 0\n",
    "### Delete listing where host_response_time = 0\n",
    "lx = lx[lx['host_response_time'] != 0]\n"
   ]
  },
  {
   "cell_type": "code",
   "execution_count": 529,
   "id": "ea668acb-fda2-4b6e-a76e-127e06576cb1",
   "metadata": {},
   "outputs": [
    {
     "name": "stdout",
     "output_type": "stream",
     "text": [
      "Data exported successfully.\n"
     ]
    }
   ],
   "source": [
    "# EXPORT DATA TO CSV\n",
    "# Database connection parameters\n",
    "user = 'root'\n",
    "password = ''\n",
    "host = 'localhost'  # e.g., 'localhost'\n",
    "database = 'abnb'\n",
    "\n",
    "# Create a connection string\n",
    "connection_string = f'mysql+mysqlconnector://{user}:{password}@{host}/{database}'\n",
    "\n",
    "# Create a database engine\n",
    "engine = create_engine(connection_string)\n",
    "\n",
    "# Export DataFrame to MySQL\n",
    "try:\n",
    "    lx.to_sql('lx', con=engine, if_exists='replace', index=False)\n",
    "    print(\"Data exported successfully.\")\n",
    "except Exception as e:\n",
    "    print(f\"An error occurred: {e}\")"
   ]
  },
  {
   "cell_type": "code",
   "execution_count": 395,
   "id": "655fd9c6-f99c-4d53-976a-299c17fd60f3",
   "metadata": {},
   "outputs": [
    {
     "name": "stdout",
     "output_type": "stream",
     "text": [
      "21\n"
     ]
    }
   ],
   "source": [
    "### Outliers price\n",
    "\n",
    "Q1 = lx['price'].quantile(0.25)  # First quartile (25%)\n",
    "Q3 = lx['price'].quantile(0.75)  # Third quartile (75%)\n",
    "IQR = Q3 - Q1  # Interquartile Range\n",
    "\n",
    "# Define lower and upper bounds for outliers\n",
    "lower_bound = Q1 - 50 * IQR\n",
    "upper_bound = Q3 + 50 * IQR\n",
    "\n",
    "# Identify outliers\n",
    "outliers = lx[(lx['price'] < lower_bound) | (lx['price'] > upper_bound)]\n",
    "\n",
    "# View the outliers\n",
    "print(len(outliers))\n",
    "\n",
    "# Remove outliers based on IQR\n",
    "lx = lx[(lx['price'] >= lower_bound) & (lx['price'] <= upper_bound)]\n"
   ]
  },
  {
   "cell_type": "code",
   "execution_count": null,
   "id": "730b66d1-fa01-4f64-aa07-d17652addd88",
   "metadata": {},
   "outputs": [],
   "source": []
  },
  {
   "cell_type": "code",
   "execution_count": null,
   "id": "4b93cf1b-7a01-4f81-b769-2adb62933902",
   "metadata": {},
   "outputs": [],
   "source": []
  },
  {
   "cell_type": "code",
   "execution_count": null,
   "id": "377330c9-401d-4da2-b26e-d08635960d09",
   "metadata": {},
   "outputs": [],
   "source": []
  }
 ],
 "metadata": {
  "kernelspec": {
   "display_name": "Python 3 (ipykernel)",
   "language": "python",
   "name": "python3"
  },
  "language_info": {
   "codemirror_mode": {
    "name": "ipython",
    "version": 3
   },
   "file_extension": ".py",
   "mimetype": "text/x-python",
   "name": "python",
   "nbconvert_exporter": "python",
   "pygments_lexer": "ipython3",
   "version": "3.12.4"
  }
 },
 "nbformat": 4,
 "nbformat_minor": 5
}
